{
  "cells": [
    {
      "cell_type": "markdown",
      "metadata": {},
      "source": [
        "# Estudo prático - CNN\n",
        "\n",
        "#### Sabrina Otoni da Silva - 2023"
      ]
    },
    {
      "cell_type": "code",
      "execution_count": 1,
      "metadata": {
        "colab": {
          "base_uri": "https://localhost:8080/"
        },
        "id": "A-8cZCYs2NdA",
        "outputId": "de15cfae-d047-4364-9a6b-0a90653595c8"
      },
      "outputs": [
        {
          "name": "stdout",
          "output_type": "stream",
          "text": [
            "Drive already mounted at /content/drive; to attempt to forcibly remount, call drive.mount(\"/content/drive\", force_remount=True).\n"
          ]
        }
      ],
      "source": [
        "from google.colab import drive\n",
        "drive.mount('/content/drive')"
      ]
    },
    {
      "cell_type": "code",
      "execution_count": 2,
      "metadata": {
        "colab": {
          "base_uri": "https://localhost:8080/"
        },
        "id": "_LKlTsQAegXG",
        "outputId": "1a203f2e-12b6-40ce-f830-989307cb1aa3"
      },
      "outputs": [
        {
          "data": {
            "text/plain": [
              "['fruits-360_dataset']"
            ]
          },
          "execution_count": 2,
          "metadata": {},
          "output_type": "execute_result"
        }
      ],
      "source": [
        "import zipfile\n",
        "import os\n",
        "\n",
        "zip_path = '/content/drive/MyDrive/Colab Notebooks/fruits.zip'\n",
        "extract_to_dir = '/content/var'\n",
        "\n",
        "os.makedirs(extract_to_dir, exist_ok=True)\n",
        "\n",
        "with zipfile.ZipFile(zip_path, 'r') as zip_ref:\n",
        "    zip_ref.extractall(extract_to_dir)\n",
        "\n",
        "extracted_folders = os.listdir(extract_to_dir)\n",
        "extracted_folders"
      ]
    },
    {
      "cell_type": "code",
      "execution_count": 3,
      "metadata": {
        "colab": {
          "base_uri": "https://localhost:8080/"
        },
        "id": "UfHUpUky2OGN",
        "outputId": "4b56c1cb-f055-49ab-845d-6bdcd6d9f97e"
      },
      "outputs": [
        {
          "data": {
            "text/plain": [
              "(['Tomato Yellow',\n",
              "  'Avocado ripe',\n",
              "  'Banana',\n",
              "  'Mulberry',\n",
              "  'Apple Golden 2',\n",
              "  'Physalis with Husk',\n",
              "  'Grape Blue',\n",
              "  'Onion Red Peeled',\n",
              "  'Beetroot',\n",
              "  'Potato White',\n",
              "  'Papaya',\n",
              "  'Pear',\n",
              "  'Peach Flat',\n",
              "  'Pear Red',\n",
              "  'Cherry 1',\n",
              "  'Cherry Rainier',\n",
              "  'Huckleberry',\n",
              "  'Nut Forest',\n",
              "  'Pitahaya Red',\n",
              "  'Potato Red',\n",
              "  'Tomato 2',\n",
              "  'Raspberry',\n",
              "  'Potato Red Washed',\n",
              "  'Nectarine',\n",
              "  'Apple Braeburn',\n",
              "  'Kohlrabi',\n",
              "  'Pineapple',\n",
              "  'Cantaloupe 1',\n",
              "  'Peach',\n",
              "  'Hazelnut',\n",
              "  'Dates',\n",
              "  'Tomato Cherry Red',\n",
              "  'Grapefruit White',\n",
              "  'Grape White 3',\n",
              "  'Mangostan',\n",
              "  'Cherry 2',\n",
              "  'Grape White',\n",
              "  'Blueberry',\n",
              "  'Peach 2',\n",
              "  'Grape Pink',\n",
              "  'Pear Forelle',\n",
              "  'Pepper Green',\n",
              "  'Mango',\n",
              "  'Kaki',\n",
              "  'Limes',\n",
              "  'Lemon Meyer',\n",
              "  'Tomato Maroon',\n",
              "  'Orange',\n",
              "  'Apple Red Yellow 1',\n",
              "  'Ginger Root',\n",
              "  'Clementine',\n",
              "  'Pepper Red',\n",
              "  'Passion Fruit',\n",
              "  'Walnut',\n",
              "  'Pomegranate',\n",
              "  'Nut Pecan',\n",
              "  'Cherry Wax Red',\n",
              "  'Mandarine',\n",
              "  'Apple Red Yellow 2',\n",
              "  'Quince',\n",
              "  'Strawberry Wedge',\n",
              "  'Cocos',\n",
              "  'Pear Abate',\n",
              "  'Tangelo',\n",
              "  'Eggplant',\n",
              "  'Cherry Wax Black',\n",
              "  'Grape White 2',\n",
              "  'Apple Pink Lady',\n",
              "  'Plum 2',\n",
              "  'Plum 3',\n",
              "  'Lychee',\n",
              "  'Granadilla',\n",
              "  'Apple Golden 1',\n",
              "  'Pomelo Sweetie',\n",
              "  'Tomato 3',\n",
              "  'Cherry Wax Yellow',\n",
              "  'Guava',\n",
              "  'Tamarillo',\n",
              "  'Pepino',\n",
              "  'Apple Red Delicious',\n",
              "  'Pepper Yellow',\n",
              "  'Tomato 1',\n",
              "  'Apple Golden 3',\n",
              "  'Mango Red',\n",
              "  'Cantaloupe 2',\n",
              "  'Pear Monster',\n",
              "  'Pear Williams',\n",
              "  'Pear Kaiser',\n",
              "  'Potato Sweet',\n",
              "  'Banana Red',\n",
              "  'Onion White',\n",
              "  'Plum',\n",
              "  'Carambula',\n",
              "  'Apple Red 2',\n",
              "  'Apricot',\n",
              "  'Physalis',\n",
              "  'Apple Crimson Snow',\n",
              "  'Strawberry',\n",
              "  'Cactus fruit',\n",
              "  'Nectarine Flat',\n",
              "  'Cauliflower',\n",
              "  'Tomato 4',\n",
              "  'Pineapple Mini',\n",
              "  'Grapefruit Pink',\n",
              "  'Redcurrant',\n",
              "  'Rambutan',\n",
              "  'Apple Granny Smith',\n",
              "  'Salak',\n",
              "  'Onion Red',\n",
              "  'Apple Red 1',\n",
              "  'Grape White 4',\n",
              "  'Kiwi',\n",
              "  'Melon Piel de Sapo',\n",
              "  'Chestnut',\n",
              "  'Avocado',\n",
              "  'Kumquats',\n",
              "  'Lemon',\n",
              "  'Banana Lady Finger',\n",
              "  'Apple Red 3',\n",
              "  'Maracuja'],\n",
              " 120,\n",
              " True)"
            ]
          },
          "execution_count": 3,
          "metadata": {},
          "output_type": "execute_result"
        }
      ],
      "source": [
        "training_dir = os.path.join(extract_to_dir, 'fruits-360_dataset/fruits-360', 'Training')\n",
        "testing_dir = os.path.join(extract_to_dir, 'fruits-360_dataset/fruits-360', 'Test')\n",
        "\n",
        "training_classes = os.listdir(training_dir)\n",
        "testing_classes = os.listdir(testing_dir)\n",
        "\n",
        "num_classes = len(training_classes)\n",
        "consistent_class_count = len(training_classes) == len(testing_classes)\n",
        "\n",
        "training_classes, num_classes, consistent_class_count"
      ]
    },
    {
      "cell_type": "code",
      "execution_count": 4,
      "metadata": {
        "colab": {
          "base_uri": "https://localhost:8080/"
        },
        "id": "zVpJCeMQd2m_",
        "outputId": "230ba1d6-94cb-47ad-87e1-996117bcd7ba"
      },
      "outputs": [
        {
          "name": "stdout",
          "output_type": "stream",
          "text": [
            "Found 48431 images belonging to 120 classes.\n",
            "Found 12067 images belonging to 120 classes.\n",
            "Found 20622 images belonging to 120 classes.\n"
          ]
        },
        {
          "data": {
            "text/plain": [
              "((30, 30, 3), (30, 30, 3), (30, 30, 3))"
            ]
          },
          "execution_count": 4,
          "metadata": {},
          "output_type": "execute_result"
        }
      ],
      "source": [
        "from tensorflow.keras.preprocessing.image import ImageDataGenerator\n",
        "\n",
        "batch_size = 32\n",
        "target_size = (30, 30)\n",
        "\n",
        "train_datagen = ImageDataGenerator(rescale=1./255, validation_split=0.20)\n",
        "\n",
        "#criando um gerador que le as imagens do training_dir especificado, e aplicando a transformação de escala para gerar lotes de dados de treinamento.\n",
        "train_generator = train_datagen.flow_from_directory(\n",
        "    training_dir,\n",
        "    target_size=target_size,\n",
        "    batch_size=batch_size,\n",
        "    class_mode='categorical',\n",
        "    subset='training',\n",
        "    seed=42\n",
        ")\n",
        "\n",
        "validation_generator = train_datagen.flow_from_directory(\n",
        "    training_dir,\n",
        "    target_size=target_size,\n",
        "    batch_size=batch_size,\n",
        "    class_mode='categorical',\n",
        "    subset='validation',\n",
        "    seed=42\n",
        ")\n",
        "\n",
        "test_datagen = ImageDataGenerator(rescale=1./255)\n",
        "\n",
        "test_generator = test_datagen.flow_from_directory(\n",
        "    testing_dir,\n",
        "    target_size=target_size,\n",
        "    batch_size=1,\n",
        "    class_mode='categorical',\n",
        "    shuffle=False\n",
        ")\n",
        "\n",
        "train_generator.image_shape, validation_generator.image_shape, test_generator.image_shape"
      ]
    },
    {
      "cell_type": "code",
      "execution_count": 9,
      "metadata": {
        "id": "d40IJG34d2pX"
      },
      "outputs": [],
      "source": [
        "from tensorflow.keras.models import Sequential\n",
        "from tensorflow.keras.layers import Conv2D, AveragePooling2D, Flatten, Dense, Dropout\n",
        "\n",
        "num_classes = 120\n",
        "\n",
        "model = Sequential([\n",
        "    Conv2D(32, (5, 5), activation='relu', input_shape=(30, 30, 3)),\n",
        "    AveragePooling2D(pool_size=(2, 2)),\n",
        "\n",
        "    Conv2D(64, (5, 5), activation='relu'),\n",
        "    AveragePooling2D(pool_size=(2, 2)),\n",
        "\n",
        "    Flatten(),\n",
        "    Dense(120, activation='relu'),\n",
        "    Dropout(0.5),\n",
        "    Dense(84, activation='relu'),\n",
        "    Dense(num_classes, activation='softmax')\n",
        "])\n",
        "\n",
        "model.compile(optimizer='adam', loss='categorical_crossentropy', metrics=['accuracy'])"
      ]
    },
    {
      "cell_type": "code",
      "execution_count": 10,
      "metadata": {
        "colab": {
          "base_uri": "https://localhost:8080/"
        },
        "id": "krh3rlKhd2sJ",
        "outputId": "0ef0d74d-4869-4c45-ffde-e63408bfba9f"
      },
      "outputs": [
        {
          "name": "stdout",
          "output_type": "stream",
          "text": [
            "Epoch 1/10\n",
            "1514/1514 [==============================] - 39s 23ms/step - loss: 1.9434 - accuracy: 0.4436 - val_loss: 0.5529 - val_accuracy: 0.8400\n",
            "Epoch 2/10\n",
            "   8/1514 [..............................] - ETA: 24s - loss: 0.9138 - accuracy: 0.6680"
          ]
        },
        {
          "name": "stderr",
          "output_type": "stream",
          "text": [
            "/usr/local/lib/python3.10/dist-packages/keras/src/engine/training.py:3079: UserWarning: You are saving your model as an HDF5 file via `model.save()`. This file format is considered legacy. We recommend using instead the native Keras format, e.g. `model.save('my_model.keras')`.\n",
            "  saving_api.save_model(\n"
          ]
        },
        {
          "name": "stdout",
          "output_type": "stream",
          "text": [
            "1514/1514 [==============================] - 34s 22ms/step - loss: 0.7216 - accuracy: 0.7557 - val_loss: 0.4596 - val_accuracy: 0.8638\n",
            "Epoch 3/10\n",
            "1514/1514 [==============================] - 40s 26ms/step - loss: 0.5043 - accuracy: 0.8263 - val_loss: 0.3191 - val_accuracy: 0.9013\n",
            "Epoch 4/10\n",
            "1514/1514 [==============================] - 37s 24ms/step - loss: 0.3960 - accuracy: 0.8625 - val_loss: 0.2636 - val_accuracy: 0.9364\n",
            "Epoch 5/10\n",
            "1514/1514 [==============================] - 34s 22ms/step - loss: 0.3312 - accuracy: 0.8852 - val_loss: 0.3258 - val_accuracy: 0.9345\n",
            "Epoch 6/10\n",
            "1514/1514 [==============================] - 33s 22ms/step - loss: 0.2922 - accuracy: 0.9008 - val_loss: 0.3274 - val_accuracy: 0.9424\n",
            "Epoch 7/10\n",
            "1514/1514 [==============================] - 34s 23ms/step - loss: 0.2578 - accuracy: 0.9119 - val_loss: 0.3119 - val_accuracy: 0.9469\n",
            "Epoch 8/10\n",
            "1514/1514 [==============================] - 34s 23ms/step - loss: 0.2237 - accuracy: 0.9231 - val_loss: 0.3280 - val_accuracy: 0.9358\n",
            "Epoch 9/10\n",
            "1514/1514 [==============================] - 33s 22ms/step - loss: 0.2064 - accuracy: 0.9292 - val_loss: 0.3305 - val_accuracy: 0.9516\n",
            "Epoch 10/10\n",
            "1514/1514 [==============================] - 33s 22ms/step - loss: 0.1874 - accuracy: 0.9371 - val_loss: 0.3039 - val_accuracy: 0.9575\n"
          ]
        }
      ],
      "source": [
        "from tensorflow.keras.callbacks import ModelCheckpoint, EarlyStopping\n",
        "\n",
        "# ReduceLROnPlateau no livro\n",
        "\n",
        "es = EarlyStopping(\n",
        "        min_delta=1e-4,\n",
        "        verbose=1,\n",
        "        restore_best_weights=True,\n",
        "        patience=6\n",
        "    )\n",
        "\n",
        "\n",
        "checkpoint = ModelCheckpoint(\n",
        "    'model_best.h5',\n",
        "    monitor='val_accuracy',\n",
        "    save_best_only=True,\n",
        "    mode='max'\n",
        ")\n",
        "\n",
        "history = model.fit(\n",
        "    train_generator,\n",
        "    validation_data=validation_generator,\n",
        "    epochs=10,\n",
        "    callbacks=[checkpoint, es]\n",
        ")"
      ]
    },
    {
      "cell_type": "code",
      "execution_count": 11,
      "metadata": {
        "colab": {
          "base_uri": "https://localhost:8080/"
        },
        "id": "SI-g_OiQd2ux",
        "outputId": "083e009f-e226-4e4b-e157-93c30ce672f6"
      },
      "outputs": [
        {
          "name": "stdout",
          "output_type": "stream",
          "text": [
            "20622/20622 [==============================] - 77s 4ms/step - loss: 0.2116 - accuracy: 0.9572\n",
            "Test accuracy: 0.96, Test loss: 0.21\n"
          ]
        }
      ],
      "source": [
        "model.load_weights('model_best.h5')\n",
        "test_loss, test_accuracy = model.evaluate(test_generator)\n",
        "print(f'Test accuracy: {test_accuracy:.2f}, Test loss: {test_loss:.2f}')"
      ]
    },
    {
      "cell_type": "code",
      "execution_count": 12,
      "metadata": {
        "colab": {
          "base_uri": "https://localhost:8080/",
          "height": 455
        },
        "id": "zkk1aMNhd2xV",
        "outputId": "60efac93-7d1c-421d-9046-64056510126c"
      },
      "outputs": [
        {
          "data": {
            "image/png": "[encoded data removed]",
            "text/plain": [
              "<Figure size 640x480 with 1 Axes>"
            ]
          },
          "metadata": {},
          "output_type": "display_data"
        }
      ],
      "source": [
        "import matplotlib.pyplot as plt\n",
        "\n",
        "plt.plot(history.history['accuracy'], label='accuracy')\n",
        "plt.plot(history.history['val_accuracy'], label='val_accuracy')\n",
        "plt.xlabel('Epoch')\n",
        "plt.ylabel('Accuracy')\n",
        "plt.ylim([0, 1])\n",
        "plt.legend(loc='lower right')\n",
        "\n",
        "plt.show()"
      ]
    },
    {
      "cell_type": "code",
      "execution_count": 18,
      "metadata": {
        "colab": {
          "base_uri": "https://localhost:8080/"
        },
        "id": "ct_OYYL3d2zy",
        "outputId": "3eb3517b-950c-4fe4-fb98-a82dba7811c2"
      },
      "outputs": [
        {
          "name": "stdout",
          "output_type": "stream",
          "text": [
            "1/1 [==============================] - 0s 31ms/step\n",
            "[116]\n"
          ]
        }
      ],
      "source": [
        "import numpy as np\n",
        "from keras.preprocessing import image\n",
        "\n",
        "img_path = '/content/var/fruits-360_dataset/fruits-360/Test/Tomato 4/119_100.jpg'\n",
        "img = image.load_img(img_path, target_size=(30, 30))\n",
        "img_array = image.img_to_array(img)\n",
        "img_array = np.expand_dims(img_array, axis=0)\n",
        "\n",
        "predictions = model.predict(img_array)\n",
        "predicted_class = np.argmax(predictions, axis=1)\n",
        "print(predicted_class)"
      ]
    },
    {
      "cell_type": "code",
      "execution_count": 19,
      "metadata": {
        "colab": {
          "base_uri": "https://localhost:8080/"
        },
        "id": "QrAY8euIi1jB",
        "outputId": "700d7368-cbeb-4786-dfb6-bf695ac09a89"
      },
      "outputs": [
        {
          "data": {
            "text/plain": [
              "{'Apple Braeburn': 0,\n",
              " 'Apple Crimson Snow': 1,\n",
              " 'Apple Golden 1': 2,\n",
              " 'Apple Golden 2': 3,\n",
              " 'Apple Golden 3': 4,\n",
              " 'Apple Granny Smith': 5,\n",
              " 'Apple Pink Lady': 6,\n",
              " 'Apple Red 1': 7,\n",
              " 'Apple Red 2': 8,\n",
              " 'Apple Red 3': 9,\n",
              " 'Apple Red Delicious': 10,\n",
              " 'Apple Red Yellow 1': 11,\n",
              " 'Apple Red Yellow 2': 12,\n",
              " 'Apricot': 13,\n",
              " 'Avocado': 14,\n",
              " 'Avocado ripe': 15,\n",
              " 'Banana': 16,\n",
              " 'Banana Lady Finger': 17,\n",
              " 'Banana Red': 18,\n",
              " 'Beetroot': 19,\n",
              " 'Blueberry': 20,\n",
              " 'Cactus fruit': 21,\n",
              " 'Cantaloupe 1': 22,\n",
              " 'Cantaloupe 2': 23,\n",
              " 'Carambula': 24,\n",
              " 'Cauliflower': 25,\n",
              " 'Cherry 1': 26,\n",
              " 'Cherry 2': 27,\n",
              " 'Cherry Rainier': 28,\n",
              " 'Cherry Wax Black': 29,\n",
              " 'Cherry Wax Red': 30,\n",
              " 'Cherry Wax Yellow': 31,\n",
              " 'Chestnut': 32,\n",
              " 'Clementine': 33,\n",
              " 'Cocos': 34,\n",
              " 'Dates': 35,\n",
              " 'Eggplant': 36,\n",
              " 'Ginger Root': 37,\n",
              " 'Granadilla': 38,\n",
              " 'Grape Blue': 39,\n",
              " 'Grape Pink': 40,\n",
              " 'Grape White': 41,\n",
              " 'Grape White 2': 42,\n",
              " 'Grape White 3': 43,\n",
              " 'Grape White 4': 44,\n",
              " 'Grapefruit Pink': 45,\n",
              " 'Grapefruit White': 46,\n",
              " 'Guava': 47,\n",
              " 'Hazelnut': 48,\n",
              " 'Huckleberry': 49,\n",
              " 'Kaki': 50,\n",
              " 'Kiwi': 51,\n",
              " 'Kohlrabi': 52,\n",
              " 'Kumquats': 53,\n",
              " 'Lemon': 54,\n",
              " 'Lemon Meyer': 55,\n",
              " 'Limes': 56,\n",
              " 'Lychee': 57,\n",
              " 'Mandarine': 58,\n",
              " 'Mango': 59,\n",
              " 'Mango Red': 60,\n",
              " 'Mangostan': 61,\n",
              " 'Maracuja': 62,\n",
              " 'Melon Piel de Sapo': 63,\n",
              " 'Mulberry': 64,\n",
              " 'Nectarine': 65,\n",
              " 'Nectarine Flat': 66,\n",
              " 'Nut Forest': 67,\n",
              " 'Nut Pecan': 68,\n",
              " 'Onion Red': 69,\n",
              " 'Onion Red Peeled': 70,\n",
              " 'Onion White': 71,\n",
              " 'Orange': 72,\n",
              " 'Papaya': 73,\n",
              " 'Passion Fruit': 74,\n",
              " 'Peach': 75,\n",
              " 'Peach 2': 76,\n",
              " 'Peach Flat': 77,\n",
              " 'Pear': 78,\n",
              " 'Pear Abate': 79,\n",
              " 'Pear Forelle': 80,\n",
              " 'Pear Kaiser': 81,\n",
              " 'Pear Monster': 82,\n",
              " 'Pear Red': 83,\n",
              " 'Pear Williams': 84,\n",
              " 'Pepino': 85,\n",
              " 'Pepper Green': 86,\n",
              " 'Pepper Red': 87,\n",
              " 'Pepper Yellow': 88,\n",
              " 'Physalis': 89,\n",
              " 'Physalis with Husk': 90,\n",
              " 'Pineapple': 91,\n",
              " 'Pineapple Mini': 92,\n",
              " 'Pitahaya Red': 93,\n",
              " 'Plum': 94,\n",
              " 'Plum 2': 95,\n",
              " 'Plum 3': 96,\n",
              " 'Pomegranate': 97,\n",
              " 'Pomelo Sweetie': 98,\n",
              " 'Potato Red': 99,\n",
              " 'Potato Red Washed': 100,\n",
              " 'Potato Sweet': 101,\n",
              " 'Potato White': 102,\n",
              " 'Quince': 103,\n",
              " 'Rambutan': 104,\n",
              " 'Raspberry': 105,\n",
              " 'Redcurrant': 106,\n",
              " 'Salak': 107,\n",
              " 'Strawberry': 108,\n",
              " 'Strawberry Wedge': 109,\n",
              " 'Tamarillo': 110,\n",
              " 'Tangelo': 111,\n",
              " 'Tomato 1': 112,\n",
              " 'Tomato 2': 113,\n",
              " 'Tomato 3': 114,\n",
              " 'Tomato 4': 115,\n",
              " 'Tomato Cherry Red': 116,\n",
              " 'Tomato Maroon': 117,\n",
              " 'Tomato Yellow': 118,\n",
              " 'Walnut': 119}"
            ]
          },
          "execution_count": 19,
          "metadata": {},
          "output_type": "execute_result"
        }
      ],
      "source": [
        "train_generator.class_indices"
      ]
    }
  ],
  "metadata": {
    "accelerator": "GPU",
    "colab": {
      "provenance": []
    },
    "kernelspec": {
      "display_name": "Python 3",
      "name": "python3"
    },
    "language_info": {
      "name": "python"
    }
  },
  "nbformat": 4,
  "nbformat_minor": 0
}
