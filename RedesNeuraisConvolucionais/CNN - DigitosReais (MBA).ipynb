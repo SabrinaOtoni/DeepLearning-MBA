{
  "cells": [
    {
      "cell_type": "markdown",
      "metadata": {},
      "source": [
        "# Estudo prático - CNN\n",
        "\n",
        "#### Sabrina Otoni da Silva - 2023"
      ]
    },
    {
      "cell_type": "markdown",
      "metadata": {
        "id": "AvMeZ9GnrDNW"
      },
      "source": [
        "##Classificação de Imagens Reais"
      ]
    },
    {
      "cell_type": "markdown",
      "metadata": {
        "id": "FF1phSI0q2iv"
      },
      "source": [
        "Baixe o seguinte arquivo: https://www.dropbox.com/s/sofyakylqodcrd3/Digitos.zip?dl=0"
      ]
    },
    {
      "cell_type": "code",
      "execution_count": null,
      "metadata": {
        "id": "Z-dlXc3p_aEL"
      },
      "outputs": [],
      "source": [
        "import matplotlib.pyplot as plt\n",
        "from tensorflow import keras\n",
        "from keras.models import Sequential\n",
        "from keras.layers import Dense\n",
        "from keras.layers import Dropout\n",
        "from keras.layers import Flatten\n",
        "from keras.layers import Conv2D\n",
        "from keras.layers import MaxPooling2D,AveragePooling2D\n",
        "from keras.utils import img_to_array , load_img\n",
        "import numpy as np\n",
        "from keras import preprocessing\n",
        "\n",
        "from keras.callbacks import ModelCheckpoint"
      ]
    },
    {
      "cell_type": "code",
      "execution_count": null,
      "metadata": {
        "id": "hTccMVr9gJ_z"
      },
      "outputs": [],
      "source": [
        "import zipfile"
      ]
    },
    {
      "cell_type": "code",
      "execution_count": null,
      "metadata": {
        "id": "kAsEKWj9gNWQ"
      },
      "outputs": [],
      "source": [
        "with zipfile.ZipFile('/content/Digitos.zip', 'r') as zip_ref:\n",
        "    zip_ref.extractall('/content/Datasets')"
      ]
    },
    {
      "cell_type": "code",
      "execution_count": null,
      "metadata": {
        "colab": {
          "base_uri": "https://localhost:8080/"
        },
        "id": "FLyqlsKVDhUl",
        "outputId": "59619a2a-ede8-482f-bbc7-15ea8c7aac92"
      },
      "outputs": [
        {
          "name": "stdout",
          "output_type": "stream",
          "text": [
            "Found 5473 images belonging to 10 classes.\n"
          ]
        }
      ],
      "source": [
        "train_datagen = preprocessing.image.ImageDataGenerator(validation_split=0.20)\n",
        "train_generator = train_datagen.flow_from_directory(\n",
        "    '/content/Datasets/Digitos/Treinamento',\n",
        "    batch_size=200,\n",
        "    color_mode = 'grayscale',\n",
        "    subset='training',\n",
        "    target_size=(30, 30))\n"
      ]
    },
    {
      "cell_type": "code",
      "execution_count": null,
      "metadata": {
        "colab": {
          "base_uri": "https://localhost:8080/"
        },
        "id": "_BaY8FN6fR6x",
        "outputId": "4bf216cb-e4b9-480d-bf5a-4109cd6d8077"
      },
      "outputs": [
        {
          "name": "stdout",
          "output_type": "stream",
          "text": [
            "Found 1363 images belonging to 10 classes.\n"
          ]
        }
      ],
      "source": [
        "valid_generator = train_datagen.flow_from_directory(\n",
        "    '/content/Datasets/Digitos/Treinamento',\n",
        "    batch_size=200,\n",
        "    color_mode = 'grayscale',\n",
        "    subset='validation',\n",
        "    target_size=(30, 30))"
      ]
    },
    {
      "cell_type": "code",
      "execution_count": null,
      "metadata": {
        "colab": {
          "base_uri": "https://localhost:8080/",
          "height": 430
        },
        "id": "j_lsEBqlfu4a",
        "outputId": "dffcee65-d430-4e26-aa73-aa8c2d1c7a8d"
      },
      "outputs": [
        {
          "data": {
            "image/png": "[encoded data removed]",
            "text/plain": [
              "<Figure size 640x480 with 1 Axes>"
            ]
          },
          "metadata": {},
          "output_type": "display_data"
        }
      ],
      "source": [
        "#Visualizando\n",
        "x,y = train_generator.next()\n",
        "for i in range(0,1):\n",
        "    image = x[i]\n",
        "    plt.imshow(image[:,:,0], cmap=plt.get_cmap('gray'))\n",
        "    plt.show()"
      ]
    },
    {
      "cell_type": "code",
      "execution_count": null,
      "metadata": {
        "colab": {
          "base_uri": "https://localhost:8080/"
        },
        "id": "Nx9NfTsMngki",
        "outputId": "c59b6b8e-d82a-419c-e97b-a278eaf19400"
      },
      "outputs": [
        {
          "data": {
            "text/plain": [
              "(200, 30, 30, 1)"
            ]
          },
          "execution_count": 8,
          "metadata": {},
          "output_type": "execute_result"
        }
      ],
      "source": [
        "x.shape"
      ]
    },
    {
      "cell_type": "code",
      "execution_count": null,
      "metadata": {
        "colab": {
          "base_uri": "https://localhost:8080/"
        },
        "id": "K8Kcd-yAnlfJ",
        "outputId": "bbd28c39-53c7-4068-fc24-c3b51bd7ba44"
      },
      "outputs": [
        {
          "data": {
            "text/plain": [
              "(30, 30, 1)"
            ]
          },
          "execution_count": 9,
          "metadata": {},
          "output_type": "execute_result"
        }
      ],
      "source": [
        "image.shape"
      ]
    },
    {
      "cell_type": "code",
      "execution_count": null,
      "metadata": {
        "colab": {
          "base_uri": "https://localhost:8080/"
        },
        "id": "rdrlDd0WeLZD",
        "outputId": "14171a77-b2f7-4330-a3d7-7a210ae4e7c7"
      },
      "outputs": [
        {
          "data": {
            "text/plain": [
              "array([0., 0., 0., 0., 0., 0., 0., 0., 0., 1.], dtype=float32)"
            ]
          },
          "execution_count": 10,
          "metadata": {},
          "output_type": "execute_result"
        }
      ],
      "source": [
        "y[0]"
      ]
    },
    {
      "cell_type": "code",
      "execution_count": null,
      "metadata": {
        "id": "NbOaV-gQgXpH"
      },
      "outputs": [],
      "source": [
        "num_classes = 10\n",
        "\n",
        "STEP_SIZE_TRAIN=train_generator.n//train_generator.batch_size\n",
        "STEP_SIZE_VALID=valid_generator.n//valid_generator.batch_size"
      ]
    },
    {
      "cell_type": "code",
      "execution_count": null,
      "metadata": {
        "colab": {
          "base_uri": "https://localhost:8080/"
        },
        "id": "kxlPBEOxgZMM",
        "outputId": "358a772b-9d30-49f2-9f9a-d65917746552"
      },
      "outputs": [
        {
          "name": "stdout",
          "output_type": "stream",
          "text": [
            "(None, 24, 24, 32)\n",
            "(None, 12, 12, 32)\n",
            "(None, 8, 8, 64)\n",
            "(None, 4, 4, 64)\n",
            "(None, 2, 2, 128)\n",
            "(None, 1, 1, 128)\n",
            "(None, 128)\n",
            "(None, 64)\n",
            "(None, 64)\n",
            "(None, 10)\n"
          ]
        }
      ],
      "source": [
        "# Cria o modelo\n",
        "model = Sequential()\n",
        "#Convolução 2D com função de ativação Rectified Linear Units 32 kernels/Pesos (filtros)\n",
        "model.add(Conv2D(32, (7, 7), input_shape=(30,30,1), activation='relu')) #, data_format='channels_first'\n",
        "print( model.output_shape)\n",
        "#Camada de Pooling\n",
        "model.add(AveragePooling2D(pool_size=(2, 2)))\n",
        "print( model.output_shape)\n",
        "\n",
        "#Convolução 2D com função de ativação Rectified Linear Units 64 kernels/Pesos (filtros)\n",
        "model.add(Conv2D(64, (5, 5), activation='relu'))\n",
        "print( model.output_shape)\n",
        "#Camada de Pooling\n",
        "model.add(AveragePooling2D(pool_size=(2, 2)))\n",
        "print( model.output_shape)\n",
        "\n",
        "#Convolução 2D com função de ativação Rectified Linear Units 128 kernels/Pesos (filtros)\n",
        "model.add(Conv2D(128, (3, 3), activation='relu'))\n",
        "print( model.output_shape)\n",
        "#Camada de Pooling\n",
        "model.add(AveragePooling2D(pool_size=(2, 2)))\n",
        "print( model.output_shape)\n",
        "\n",
        "#Remove 30% dos dados de entrada aleatoriamente\n",
        "model.add(Dropout(0.3))\n",
        "#Converte o conjunto de imagens e um vetor unidimensional para a entrada da rede neural totalmente conectada\n",
        "model.add(Flatten())\n",
        "print( model.output_shape)\n",
        "\n",
        "model.add(Dense(64, activation='relu'))\n",
        "print( model.output_shape)\n",
        "model.add(Dense(64, activation='relu'))\n",
        "print( model.output_shape)\n",
        "model.add(Dense(num_classes, activation='softmax'))\n",
        "print( model.output_shape)"
      ]
    },
    {
      "cell_type": "code",
      "execution_count": null,
      "metadata": {
        "id": "9Zo-NEaegdNh"
      },
      "outputs": [],
      "source": [
        "model.compile(loss='categorical_crossentropy', optimizer='adam', metrics=['accuracy'])"
      ]
    },
    {
      "cell_type": "code",
      "execution_count": null,
      "metadata": {
        "colab": {
          "base_uri": "https://localhost:8080/"
        },
        "id": "az7y6EhkgiOe",
        "outputId": "59095740-f899-4423-990e-3e289b145d2d"
      },
      "outputs": [
        {
          "name": "stdout",
          "output_type": "stream",
          "text": [
            "Model: \"sequential\"\n",
            "_________________________________________________________________\n",
            " Layer (type)                Output Shape              Param #   \n",
            "=================================================================\n",
            " conv2d (Conv2D)             (None, 24, 24, 32)        1600      \n",
            "                                                                 \n",
            " average_pooling2d (Average  (None, 12, 12, 32)        0         \n",
            " Pooling2D)                                                      \n",
            "                                                                 \n",
            " conv2d_1 (Conv2D)           (None, 8, 8, 64)          51264     \n",
            "                                                                 \n",
            " average_pooling2d_1 (Avera  (None, 4, 4, 64)          0         \n",
            " gePooling2D)                                                    \n",
            "                                                                 \n",
            " conv2d_2 (Conv2D)           (None, 2, 2, 128)         73856     \n",
            "                                                                 \n",
            " average_pooling2d_2 (Avera  (None, 1, 1, 128)         0         \n",
            " gePooling2D)                                                    \n",
            "                                                                 \n",
            " dropout (Dropout)           (None, 1, 1, 128)         0         \n",
            "                                                                 \n",
            " flatten (Flatten)           (None, 128)               0         \n",
            "                                                                 \n",
            " dense (Dense)               (None, 64)                8256      \n",
            "                                                                 \n",
            " dense_1 (Dense)             (None, 64)                4160      \n",
            "                                                                 \n",
            " dense_2 (Dense)             (None, 10)                650       \n",
            "                                                                 \n",
            "=================================================================\n",
            "Total params: 139786 (546.04 KB)\n",
            "Trainable params: 139786 (546.04 KB)\n",
            "Non-trainable params: 0 (0.00 Byte)\n",
            "_________________________________________________________________\n",
            "Epoch 1/10\n"
          ]
        },
        {
          "name": "stderr",
          "output_type": "stream",
          "text": [
            "<ipython-input-14-1b3a6717d059>:6: UserWarning: `Model.fit_generator` is deprecated and will be removed in a future version. Please use `Model.fit`, which supports generators.\n",
            "  model.fit_generator(train_generator,\n"
          ]
        },
        {
          "name": "stdout",
          "output_type": "stream",
          "text": [
            "24/27 [=========================>....] - ETA: 0s - loss: 2.2187 - accuracy: 0.4162\n",
            "Epoch 1: val_accuracy improved from -inf to 0.88083, saving model to model_best.h5\n",
            "27/27 [==============================] - 16s 81ms/step - loss: 2.0653 - accuracy: 0.4470 - val_loss: 0.4419 - val_accuracy: 0.8808\n",
            "Epoch 2/10\n",
            "27/27 [==============================] - ETA: 0s - loss: 0.4069 - accuracy: 0.8621\n",
            "Epoch 2: val_accuracy improved from 0.88083 to 0.97583, saving model to model_best.h5\n",
            "27/27 [==============================] - 2s 78ms/step - loss: 0.4069 - accuracy: 0.8621 - val_loss: 0.0703 - val_accuracy: 0.9758\n",
            "Epoch 3/10\n",
            "27/27 [==============================] - ETA: 0s - loss: 0.1427 - accuracy: 0.9522\n",
            "Epoch 3: val_accuracy improved from 0.97583 to 0.99417, saving model to model_best.h5\n",
            "27/27 [==============================] - 3s 96ms/step - loss: 0.1427 - accuracy: 0.9522 - val_loss: 0.0217 - val_accuracy: 0.9942\n",
            "Epoch 4/10\n",
            "26/27 [===========================>..] - ETA: 0s - loss: 0.0876 - accuracy: 0.9738\n",
            "Epoch 4: val_accuracy improved from 0.99417 to 0.99667, saving model to model_best.h5\n",
            "27/27 [==============================] - 2s 82ms/step - loss: 0.0855 - accuracy: 0.9746 - val_loss: 0.0119 - val_accuracy: 0.9967\n",
            "Epoch 5/10\n",
            "26/27 [===========================>..] - ETA: 0s - loss: 0.0539 - accuracy: 0.9840\n",
            "Epoch 5: val_accuracy did not improve from 0.99667\n",
            "27/27 [==============================] - 2s 66ms/step - loss: 0.0535 - accuracy: 0.9843 - val_loss: 0.0193 - val_accuracy: 0.9925\n",
            "Epoch 6/10\n",
            "27/27 [==============================] - ETA: 0s - loss: 0.0458 - accuracy: 0.9867\n",
            "Epoch 6: val_accuracy did not improve from 0.99667\n",
            "27/27 [==============================] - 2s 75ms/step - loss: 0.0458 - accuracy: 0.9867 - val_loss: 0.0232 - val_accuracy: 0.9933\n",
            "Epoch 7/10\n",
            "27/27 [==============================] - ETA: 0s - loss: 0.0347 - accuracy: 0.9903\n",
            "Epoch 7: val_accuracy did not improve from 0.99667\n",
            "27/27 [==============================] - 2s 76ms/step - loss: 0.0347 - accuracy: 0.9903 - val_loss: 0.0435 - val_accuracy: 0.9867\n",
            "Epoch 8/10\n",
            "27/27 [==============================] - ETA: 0s - loss: 0.0453 - accuracy: 0.9871\n",
            "Epoch 8: val_accuracy improved from 0.99667 to 0.99833, saving model to model_best.h5\n",
            "27/27 [==============================] - 2s 78ms/step - loss: 0.0453 - accuracy: 0.9871 - val_loss: 0.0041 - val_accuracy: 0.9983\n",
            "Epoch 9/10\n",
            "27/27 [==============================] - ETA: 0s - loss: 0.0265 - accuracy: 0.9926\n",
            "Epoch 9: val_accuracy did not improve from 0.99833\n",
            "27/27 [==============================] - 3s 95ms/step - loss: 0.0265 - accuracy: 0.9926 - val_loss: 0.0067 - val_accuracy: 0.9967\n",
            "Epoch 10/10\n",
            "27/27 [==============================] - ETA: 0s - loss: 0.0231 - accuracy: 0.9922\n",
            "Epoch 10: val_accuracy did not improve from 0.99833\n",
            "27/27 [==============================] - 2s 64ms/step - loss: 0.0231 - accuracy: 0.9922 - val_loss: 0.0080 - val_accuracy: 0.9950\n"
          ]
        },
        {
          "data": {
            "text/plain": [
              "<keras.src.callbacks.History at 0x7ea17463ffd0>"
            ]
          },
          "execution_count": 14,
          "metadata": {},
          "output_type": "execute_result"
        }
      ],
      "source": [
        "mcp_save = ModelCheckpoint('model_best.h5', monitor='val_accuracy', mode= 'auto', save_weights_only=True, save_best_only=True, verbose =1)\n",
        "#reduce_lr_loss = ReduceLROnPlateau(monitor='val_loss', factor=0.1, patience=7, verbose=1, epsilon=1e-4, mode='min')\n",
        "\n",
        "model.summary()\n",
        "\n",
        "model.fit_generator(train_generator,\n",
        "                    steps_per_epoch=STEP_SIZE_TRAIN,\n",
        "                    validation_data=valid_generator,\n",
        "                    validation_steps=STEP_SIZE_VALID,\n",
        "                    epochs=10, callbacks=[mcp_save])"
      ]
    },
    {
      "cell_type": "code",
      "execution_count": null,
      "metadata": {
        "colab": {
          "base_uri": "https://localhost:8080/"
        },
        "id": "k2dFjFKUgpnA",
        "outputId": "6d516bb6-7511-4c55-9f1f-dfddcb2dc2b9"
      },
      "outputs": [
        {
          "name": "stdout",
          "output_type": "stream",
          "text": [
            "Found 73 images belonging to 10 classes.\n"
          ]
        }
      ],
      "source": [
        "test_datagen = preprocessing.image.ImageDataGenerator()\n",
        "test_generator = test_datagen.flow_from_directory(\n",
        "    '/content/Datasets/Digitos/Teste',\n",
        "    batch_size=1,\n",
        "    color_mode = 'grayscale',\n",
        "    target_size=(30, 30))"
      ]
    },
    {
      "cell_type": "code",
      "execution_count": null,
      "metadata": {
        "colab": {
          "base_uri": "https://localhost:8080/"
        },
        "id": "R-oBAzcAgzwL",
        "outputId": "ba2a3c46-1ec7-4172-a350-2823b132e559"
      },
      "outputs": [
        {
          "name": "stderr",
          "output_type": "stream",
          "text": [
            "<ipython-input-16-079ee025880b>:1: UserWarning: `Model.evaluate_generator` is deprecated and will be removed in a future version. Please use `Model.evaluate`, which supports generators.\n",
            "  scores = model.evaluate_generator(test_generator)\n"
          ]
        },
        {
          "name": "stdout",
          "output_type": "stream",
          "text": [
            "[0.021215468645095825, 1.0]\n"
          ]
        }
      ],
      "source": [
        "scores = model.evaluate_generator(test_generator)\n",
        "print(scores)"
      ]
    },
    {
      "cell_type": "code",
      "execution_count": null,
      "metadata": {
        "id": "2uDyTaiCg0-H"
      },
      "outputs": [],
      "source": [
        "predictions = model.predict_generator(test_generator)\n",
        "print(predictions)"
      ]
    },
    {
      "cell_type": "code",
      "execution_count": null,
      "metadata": {
        "colab": {
          "base_uri": "https://localhost:8080/"
        },
        "id": "JG9lcmU0gtgZ",
        "outputId": "ca6decc3-d72f-40dd-d1e8-6fb2a6233b27"
      },
      "outputs": [
        {
          "name": "stdout",
          "output_type": "stream",
          "text": [
            "8\n"
          ]
        }
      ],
      "source": [
        "res1 = np.argmax(predictions[0,:])\n",
        "print(res1)"
      ]
    },
    {
      "cell_type": "markdown",
      "metadata": {
        "id": "BtaLUbZ1mpu2"
      },
      "source": [
        "Como Fazer a predição de uma imagem PNG?"
      ]
    },
    {
      "cell_type": "code",
      "execution_count": null,
      "metadata": {
        "colab": {
          "base_uri": "https://localhost:8080/",
          "height": 430
        },
        "id": "rrmeie27nHvg",
        "outputId": "458dde32-5fae-4888-ecf8-8bbee6e3893d"
      },
      "outputs": [
        {
          "data": {
            "image/png": "[encoded data removed]",
            "text/plain": [
              "<Figure size 640x480 with 1 Axes>"
            ]
          },
          "metadata": {},
          "output_type": "display_data"
        }
      ],
      "source": [
        "#fileimg = r'D:\\digito_7_2SAN.png'\n",
        "fileimg = r'/content/Datasets/Digitos/Teste/7/digito_2_36-49-513863.png'\n",
        "\n",
        "img = load_img(fileimg , color_mode = \"grayscale\", target_size=(30, 30))\n",
        "\n",
        "#\n",
        "x = img_to_array(img)\n",
        "\n",
        "plt.imshow(x[:,:,0], cmap=plt.get_cmap('gray'))\n",
        "plt.show()"
      ]
    },
    {
      "cell_type": "code",
      "execution_count": null,
      "metadata": {
        "colab": {
          "base_uri": "https://localhost:8080/"
        },
        "id": "zjF5TrAinZFj",
        "outputId": "8f206440-a2fe-4425-b839-633ffb6ca0cf"
      },
      "outputs": [
        {
          "data": {
            "text/plain": [
              "(30, 30, 1)"
            ]
          },
          "execution_count": 20,
          "metadata": {},
          "output_type": "execute_result"
        }
      ],
      "source": [
        "x.shape"
      ]
    },
    {
      "cell_type": "code",
      "execution_count": null,
      "metadata": {
        "colab": {
          "base_uri": "https://localhost:8080/"
        },
        "id": "IFLveOHmnw5R",
        "outputId": "44017828-6fa4-4cbb-b8ed-6e0d76404e20"
      },
      "outputs": [
        {
          "data": {
            "text/plain": [
              "(1, 30, 30, 1)"
            ]
          },
          "execution_count": 21,
          "metadata": {},
          "output_type": "execute_result"
        }
      ],
      "source": [
        "x = np.expand_dims(x, axis=0)\n",
        "x.shape"
      ]
    },
    {
      "cell_type": "code",
      "execution_count": null,
      "metadata": {
        "colab": {
          "base_uri": "https://localhost:8080/"
        },
        "id": "te7CvbA2moT8",
        "outputId": "45f384e5-9ef3-410b-bf9d-d30cef796bea"
      },
      "outputs": [
        {
          "name": "stdout",
          "output_type": "stream",
          "text": [
            "1/1 [==============================] - 0s 157ms/step\n",
            "7\n"
          ]
        }
      ],
      "source": [
        "y_pred = model.predict(x)\n",
        "\n",
        "res = np.argmax(y_pred)\n",
        "print(res)"
      ]
    },
    {
      "cell_type": "code",
      "execution_count": null,
      "metadata": {
        "colab": {
          "base_uri": "https://localhost:8080/"
        },
        "id": "NOTuya-1MGRB",
        "outputId": "63139175-d71b-4d19-db1d-810b81b08633"
      },
      "outputs": [
        {
          "data": {
            "text/plain": [
              "array([[3.3396803e-04, 3.4613553e-05, 7.9535479e-03, 2.7351914e-04,\n",
              "        6.5086305e-04, 3.7924285e-06, 8.4892185e-05, 9.8958498e-01,\n",
              "        1.9523284e-05, 1.0603431e-03]], dtype=float32)"
            ]
          },
          "execution_count": 23,
          "metadata": {},
          "output_type": "execute_result"
        }
      ],
      "source": [
        "y_pred"
      ]
    },
    {
      "cell_type": "code",
      "execution_count": null,
      "metadata": {
        "colab": {
          "base_uri": "https://localhost:8080/"
        },
        "id": "PZJPF99ewuQ8",
        "outputId": "af417e6c-3bf6-46b8-da23-224981751dfa"
      },
      "outputs": [
        {
          "data": {
            "text/plain": [
              "{'0': 0,\n",
              " '1': 1,\n",
              " '2': 2,\n",
              " '3': 3,\n",
              " '4': 4,\n",
              " '5': 5,\n",
              " '6': 6,\n",
              " '7': 7,\n",
              " '8': 8,\n",
              " '9': 9}"
            ]
          },
          "execution_count": 24,
          "metadata": {},
          "output_type": "execute_result"
        }
      ],
      "source": [
        "train_generator.class_indices"
      ]
    }
  ],
  "metadata": {
    "accelerator": "GPU",
    "colab": {
      "provenance": []
    },
    "kernelspec": {
      "display_name": "Python 3",
      "name": "python3"
    },
    "language_info": {
      "name": "python"
    }
  },
  "nbformat": 4,
  "nbformat_minor": 0
}
