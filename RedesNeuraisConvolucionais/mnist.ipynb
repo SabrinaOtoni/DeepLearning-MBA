{
 "cells": [
  {
   "cell_type": "markdown",
   "metadata": {},
   "source": [
    "# Estudo prático da estrutura das redes neurais convolucionais\n",
    "\n",
    "#### Sabrina Otoni da Silva - 2023"
   ]
  },
  {
   "cell_type": "code",
   "execution_count": 15,
   "metadata": {},
   "outputs": [],
   "source": [
    "import numpy as np\n",
    "\n",
    "import matplotlib.pyplot as plt\n",
    "\n",
    "from sklearn.model_selection import StratifiedKFold\n",
    "\n",
    "from tensorflow.keras.datasets import mnist\n",
    "from tensorflow.keras.models import Sequential\n",
    "from tensorflow.keras.layers import Dense, Flatten, Activation, Dropout, Conv2D, MaxPooling2D\n",
    "from tensorflow.python.keras.utils import np_utils\n",
    "from tensorflow.keras.layers import BatchNormalization\n",
    "from tensorflow.keras.preprocessing.image import ImageDataGenerator"
   ]
  },
  {
   "cell_type": "code",
   "execution_count": 8,
   "metadata": {},
   "outputs": [
    {
     "name": "stdout",
     "output_type": "stream",
     "text": [
      "Downloading data from https://storage.googleapis.com/tensorflow/tf-keras-datasets/mnist.npz\n",
      "11490434/11490434 [==============================] - 1s 0us/step\n"
     ]
    },
    {
     "data": {
      "text/plain": [
       "Text(0.5, 1.0, 'Classe 5')"
      ]
     },
     "execution_count": 8,
     "metadata": {},
     "output_type": "execute_result"
    },
    {
     "data": {
      "image/png": "[encoded data removed]",
      "text/plain": [
       "<Figure size 640x480 with 1 Axes>"
      ]
     },
     "metadata": {},
     "output_type": "display_data"
    }
   ],
   "source": [
    "(X_treinamento, y_treinamento), (X_teste, y_teste) = mnist.load_data()\n",
    "plt.imshow(X_treinamento[0], cmap = 'gray')\n",
    "plt.title('Classe ' + str(y_treinamento[0]))"
   ]
  },
  {
   "cell_type": "code",
   "execution_count": 9,
   "metadata": {},
   "outputs": [],
   "source": [
    "previsores_treinamento = X_treinamento.reshape(X_treinamento.shape[0],\n",
    "                                               28, 28, 1)\n",
    "previsores_teste = X_teste.reshape(X_teste.shape[0], 28, 28, 1)\n",
    "previsores_treinamento = previsores_treinamento.astype('float32')\n",
    "previsores_teste = previsores_teste.astype('float32')\n",
    "\n",
    "previsores_treinamento /= 255\n",
    "previsores_teste /= 255\n",
    "\n",
    "classe_treinamento = np_utils.to_categorical(y_treinamento, 10)\n",
    "classe_teste = np_utils.to_categorical(y_teste, 10)"
   ]
  },
  {
   "cell_type": "code",
   "execution_count": 10,
   "metadata": {},
   "outputs": [
    {
     "name": "stdout",
     "output_type": "stream",
     "text": [
      "Epoch 1/2\n",
      "469/469 [==============================] - 20s 41ms/step - loss: 0.2022 - accuracy: 0.9375 - val_loss: 0.2686 - val_accuracy: 0.9148\n",
      "Epoch 2/2\n",
      "469/469 [==============================] - 19s 40ms/step - loss: 0.0650 - accuracy: 0.9809 - val_loss: 0.0357 - val_accuracy: 0.9884\n",
      "313/313 [==============================] - 2s 5ms/step - loss: 0.0357 - accuracy: 0.9884\n"
     ]
    },
    {
     "data": {
      "text/plain": [
       "[0.035697028040885925, 0.9883999824523926]"
      ]
     },
     "execution_count": 10,
     "metadata": {},
     "output_type": "execute_result"
    }
   ],
   "source": [
    "classificador = Sequential()\n",
    "classificador.add(Conv2D(32, (3,3), \n",
    "                         input_shape=(28, 28, 1),\n",
    "                         activation = 'relu'))\n",
    "classificador.add(BatchNormalization())\n",
    "classificador.add(MaxPooling2D(pool_size = (2,2)))\n",
    "#classificador.add(Flatten())\n",
    "\n",
    "classificador.add(Conv2D(32, (3,3), activation = 'relu'))\n",
    "classificador.add(BatchNormalization())\n",
    "classificador.add(MaxPooling2D(pool_size = (2,2)))\n",
    "\n",
    "classificador.add(Flatten())\n",
    "\n",
    "classificador.add(Dense(units = 128, activation = 'relu'))\n",
    "classificador.add(Dropout(0.2))\n",
    "classificador.add(Dense(units = 128, activation = 'relu'))\n",
    "classificador.add(Dropout(0.2))\n",
    "classificador.add(Dense(units = 10, \n",
    "                        activation = 'softmax'))\n",
    "classificador.compile(loss = 'categorical_crossentropy',\n",
    "                      optimizer = 'adam', metrics = ['accuracy'])\n",
    "classificador.fit(previsores_treinamento, classe_treinamento,\n",
    "                  batch_size = 128, epochs = 2,\n",
    "                  validation_data = (previsores_teste, classe_teste))\n",
    "\n",
    "resultado = classificador.evaluate(previsores_teste, classe_teste)\n",
    "resultado"
   ]
  },
  {
   "cell_type": "markdown",
   "metadata": {},
   "source": [
    "Previsão de somente uma imagem."
   ]
  },
  {
   "cell_type": "code",
   "execution_count": 11,
   "metadata": {},
   "outputs": [
    {
     "name": "stdout",
     "output_type": "stream",
     "text": [
      "1/1 [==============================] - 0s 152ms/step\n"
     ]
    },
    {
     "data": {
      "text/plain": [
       "7"
      ]
     },
     "execution_count": 11,
     "metadata": {},
     "output_type": "execute_result"
    },
    {
     "data": {
      "image/png": "[encoded data removed]",
      "text/plain": [
       "<Figure size 640x480 with 1 Axes>"
      ]
     },
     "metadata": {},
     "output_type": "display_data"
    }
   ],
   "source": [
    "plt.imshow(X_teste[0], cmap = 'gray')\n",
    "plt.title('Classe ' + str(y_teste[0]))\n",
    "\n",
    "imagem_teste = X_teste[0].reshape(1, 28, 28, 1)\n",
    "imagem_teste = imagem_teste.astype('float32')\n",
    "imagem_teste /= 255\n",
    "\n",
    "previsoes = classificador.predict(imagem_teste)\n",
    "resultado = np.argmax(previsoes)\n",
    "resultado"
   ]
  },
  {
   "cell_type": "markdown",
   "metadata": {},
   "source": [
    "Utilizando validação cruzada."
   ]
  },
  {
   "cell_type": "code",
   "execution_count": 12,
   "metadata": {},
   "outputs": [],
   "source": [
    "seed = 5\n",
    "np.random.seed(seed)\n",
    "\n",
    "(X, y), (X_teste, y_teste) = mnist.load_data()\n",
    "previsores = X.reshape(X.shape[0], 28, 28, 1)\n",
    "previsores = previsores.astype('float32')\n",
    "previsores /= 255\n",
    "classe = np_utils.to_categorical(y, 10)"
   ]
  },
  {
   "cell_type": "code",
   "execution_count": 13,
   "metadata": {},
   "outputs": [
    {
     "name": "stdout",
     "output_type": "stream",
     "text": [
      "Epoch 1/5\n",
      "375/375 [==============================] - 9s 22ms/step - loss: 0.2526 - accuracy: 0.9282\n",
      "Epoch 2/5\n",
      "375/375 [==============================] - 8s 22ms/step - loss: 0.0775 - accuracy: 0.9770\n",
      "Epoch 3/5\n",
      "375/375 [==============================] - 8s 21ms/step - loss: 0.0516 - accuracy: 0.9851\n",
      "Epoch 4/5\n",
      "375/375 [==============================] - 8s 22ms/step - loss: 0.0364 - accuracy: 0.9893\n",
      "Epoch 5/5\n",
      "375/375 [==============================] - 9s 23ms/step - loss: 0.0281 - accuracy: 0.9918\n",
      "375/375 [==============================] - 1s 3ms/step - loss: 0.0582 - accuracy: 0.9824\n",
      "Epoch 1/5\n",
      "375/375 [==============================] - 9s 22ms/step - loss: 0.2513 - accuracy: 0.9285\n",
      "Epoch 2/5\n",
      "375/375 [==============================] - 9s 23ms/step - loss: 0.0786 - accuracy: 0.9775\n",
      "Epoch 3/5\n",
      "375/375 [==============================] - 8s 23ms/step - loss: 0.0515 - accuracy: 0.9850\n",
      "Epoch 4/5\n",
      "375/375 [==============================] - 9s 25ms/step - loss: 0.0388 - accuracy: 0.9882\n",
      "Epoch 5/5\n",
      "375/375 [==============================] - 9s 24ms/step - loss: 0.0288 - accuracy: 0.9915\n",
      "375/375 [==============================] - 1s 3ms/step - loss: 0.0542 - accuracy: 0.9828\n",
      "Epoch 1/5\n",
      "375/375 [==============================] - 9s 23ms/step - loss: 0.2587 - accuracy: 0.9254\n",
      "Epoch 2/5\n",
      "375/375 [==============================] - 9s 24ms/step - loss: 0.0801 - accuracy: 0.9761\n",
      "Epoch 3/5\n",
      "375/375 [==============================] - 9s 25ms/step - loss: 0.0532 - accuracy: 0.9841\n",
      "Epoch 4/5\n",
      "375/375 [==============================] - 11s 30ms/step - loss: 0.0400 - accuracy: 0.9882\n",
      "Epoch 5/5\n",
      "375/375 [==============================] - 11s 28ms/step - loss: 0.0289 - accuracy: 0.9910\n",
      "375/375 [==============================] - 2s 5ms/step - loss: 0.0504 - accuracy: 0.9847\n",
      "Epoch 1/5\n",
      "375/375 [==============================] - 11s 28ms/step - loss: 0.2623 - accuracy: 0.9257\n",
      "Epoch 2/5\n",
      "375/375 [==============================] - 10s 26ms/step - loss: 0.0857 - accuracy: 0.9753\n",
      "Epoch 3/5\n",
      "375/375 [==============================] - 10s 25ms/step - loss: 0.0562 - accuracy: 0.9836\n",
      "Epoch 4/5\n",
      "375/375 [==============================] - 9s 25ms/step - loss: 0.0434 - accuracy: 0.9870\n",
      "Epoch 5/5\n",
      "375/375 [==============================] - 11s 28ms/step - loss: 0.0323 - accuracy: 0.9901\n",
      "375/375 [==============================] - 1s 3ms/step - loss: 0.0561 - accuracy: 0.9833\n",
      "Epoch 1/5\n",
      "375/375 [==============================] - 10s 25ms/step - loss: 0.2430 - accuracy: 0.9318\n",
      "Epoch 2/5\n",
      "375/375 [==============================] - 9s 25ms/step - loss: 0.0732 - accuracy: 0.9785\n",
      "Epoch 3/5\n",
      "375/375 [==============================] - 10s 25ms/step - loss: 0.0507 - accuracy: 0.9846\n",
      "Epoch 4/5\n",
      "375/375 [==============================] - 10s 26ms/step - loss: 0.0370 - accuracy: 0.9894\n",
      "Epoch 5/5\n",
      "375/375 [==============================] - 9s 25ms/step - loss: 0.0275 - accuracy: 0.9916\n",
      "375/375 [==============================] - 1s 3ms/step - loss: 0.0504 - accuracy: 0.9856\n"
     ]
    },
    {
     "data": {
      "text/plain": [
       "0.9837666630744935"
      ]
     },
     "execution_count": 13,
     "metadata": {},
     "output_type": "execute_result"
    }
   ],
   "source": [
    "kfold = StratifiedKFold(n_splits = 5, shuffle = True, random_state = seed)\n",
    "resultados = []\n",
    "\n",
    "a = np.zeros(5)\n",
    "b = np.zeros(shape = (classe.shape[0], 1))\n",
    "\n",
    "for indice_treinamento, indice_teste in kfold.split(previsores, \n",
    "                                                    np.zeros(shape = (classe.shape[0], 1))):\n",
    "    #print('Índices treinamento: ', indice_treinamento, 'Índice teste', indice_teste)\n",
    "    classificador = Sequential()\n",
    "    classificador.add(Conv2D(32, (3,3), input_shape=(28,28,1), activation = 'relu'))\n",
    "    classificador.add(MaxPooling2D(pool_size = (2,2)))\n",
    "    classificador.add(Flatten())\n",
    "    classificador.add(Dense(units = 128, activation = 'relu'))\n",
    "    classificador.add(Dense(units = 10, activation = 'softmax'))\n",
    "    classificador.compile(loss = 'categorical_crossentropy', optimizer = 'adam',\n",
    "                          metrics = ['accuracy'])\n",
    "    classificador.fit(previsores[indice_treinamento], classe[indice_treinamento],\n",
    "                      batch_size = 128, epochs = 5)\n",
    "    precisao = classificador.evaluate(previsores[indice_teste], classe[indice_teste])\n",
    "    resultados.append(precisao[1])\n",
    "\n",
    "#media = resultados.mean()\n",
    "media = sum(resultados) / len(resultados)\n",
    "media"
   ]
  },
  {
   "cell_type": "markdown",
   "metadata": {},
   "source": [
    "Utilizando augumentation."
   ]
  },
  {
   "cell_type": "code",
   "execution_count": 14,
   "metadata": {},
   "outputs": [
    {
     "name": "stdout",
     "output_type": "stream",
     "text": [
      "Epoch 1/5\n"
     ]
    },
    {
     "name": "stderr",
     "output_type": "stream",
     "text": [
      "C:\\Users\\012728631\\AppData\\Local\\Temp\\ipykernel_14440\\2802398662.py:33: UserWarning: `Model.fit_generator` is deprecated and will be removed in a future version. Please use `Model.fit`, which supports generators.\n",
      "  classificador.fit_generator(base_treinamento, steps_per_epoch = 600000 / 128,\n"
     ]
    },
    {
     "name": "stdout",
     "output_type": "stream",
     "text": [
      " 468/4687 [=>............................] - ETA: 2:38 - loss: 0.5092 - accuracy: 0.8398WARNING:tensorflow:Your input ran out of data; interrupting training. Make sure that your dataset or generator can generate at least `steps_per_epoch * epochs` batches (in this case, 23437.5 batches). You may need to use the repeat() function when building your dataset.\n",
      "4687/4687 [==============================] - 19s 4ms/step - loss: 0.5086 - accuracy: 0.8400 - val_loss: 0.1828 - val_accuracy: 0.9436\n"
     ]
    },
    {
     "data": {
      "text/plain": [
       "<keras.src.callbacks.History at 0x2a444fb4ad0>"
      ]
     },
     "execution_count": 14,
     "metadata": {},
     "output_type": "execute_result"
    }
   ],
   "source": [
    "(X_treinamento, y_treinamento), (X_teste, y_teste) = mnist.load_data()\n",
    "previsores_treinamento = X_treinamento.reshape(X_treinamento.shape[0],\n",
    "                                               28, 28, 1)\n",
    "previsores_teste = X_teste.reshape(X_teste.shape[0], 28, 28, 1)\n",
    "previsores_treinamento = previsores_treinamento.astype('float32')\n",
    "previsores_teste = previsores_teste.astype('float32')\n",
    "previsores_treinamento /= 255\n",
    "previsores_teste /= 255\n",
    "classe_treinamento = np_utils.to_categorical(y_treinamento, 10)\n",
    "classe_teste = np_utils.to_categorical(y_teste, 10)\n",
    "\n",
    "classificador = Sequential()\n",
    "classificador.add(Conv2D(32, (3,3), input_shape=(28, 28, 1), activation = 'relu'))\n",
    "classificador.add(MaxPooling2D(pool_size = (2,2)))\n",
    "classificador.add(Flatten())\n",
    "\n",
    "classificador.add(Dense(units = 128, activation = 'relu'))\n",
    "classificador.add(Dense(units = 10, activation = 'softmax'))\n",
    "classificador.compile(loss = 'categorical_crossentropy',\n",
    "                      optimizer = 'adam', metrics = ['accuracy'])\n",
    "\n",
    "gerador_treinamento = ImageDataGenerator(rotation_range = 7,\n",
    "                                         horizontal_flip = True,\n",
    "                                         shear_range = 0.2,\n",
    "                                         height_shift_range = 0.07,\n",
    "                                         zoom_range = 0.2)\n",
    "gerador_teste = ImageDataGenerator()\n",
    "\n",
    "base_treinamento = gerador_treinamento.flow(previsores_treinamento,\n",
    "                                            classe_treinamento, batch_size = 128)\n",
    "base_teste = gerador_teste.flow(previsores_teste, classe_teste, batch_size = 128)\n",
    "\n",
    "classificador.fit_generator(base_treinamento, steps_per_epoch = 600000 / 128,\n",
    "                            epochs = 5, validation_data = base_teste,\n",
    "                            validation_steps = 10000 / 128)"
   ]
  },
  {
   "cell_type": "code",
   "execution_count": 16,
   "metadata": {},
   "outputs": [
    {
     "name": "stdout",
     "output_type": "stream",
     "text": [
      "(60000, 28, 28)\n",
      "(60000,)\n",
      "(10000, 28, 28)\n",
      "(10000,)\n"
     ]
    },
    {
     "data": {
      "text/plain": [
       "Text(0.5, 1.0, 'Class 3')"
      ]
     },
     "execution_count": 16,
     "metadata": {},
     "output_type": "execute_result"
    },
    {
     "data": {
      "image/png": "[encoded data removed]",
      "text/plain": [
       "<Figure size 640x480 with 1 Axes>"
      ]
     },
     "metadata": {},
     "output_type": "display_data"
    }
   ],
   "source": [
    "(X_treinamento, y_treinamento), (X_teste, y_teste) = mnist.load_data()\n",
    "print(X_treinamento.shape)\n",
    "print(y_treinamento.shape)\n",
    "print(X_teste.shape)\n",
    "print(y_teste.shape)\n",
    "\n",
    "plt.imshow(X_treinamento[10000], cmap='gray')\n",
    "plt.title('Class '+ str(y_treinamento[10000]))"
   ]
  },
  {
   "cell_type": "code",
   "execution_count": 17,
   "metadata": {},
   "outputs": [],
   "source": [
    "previsores_treinamento = X_treinamento.reshape(X_treinamento.shape[0], 28, 28, 1)\n",
    "previsores_treinamento\n",
    "previsores_teste = X_teste.reshape(X_teste.shape[0], 28, 28, 1)\n",
    "\n",
    "previsores_treinamento = previsores_treinamento.astype('float32')\n",
    "previsores_teste = previsores_teste.astype('float32')\n",
    "\n",
    "previsores_treinamento /= 255\n",
    "previsores_teste /= 255\n",
    "\n",
    "classe_treinamento = np_utils.to_categorical(y_treinamento, 10)\n",
    "classe_teste = np_utils.to_categorical(y_teste, 10)"
   ]
  },
  {
   "cell_type": "code",
   "execution_count": 18,
   "metadata": {},
   "outputs": [
    {
     "name": "stdout",
     "output_type": "stream",
     "text": [
      "Epoch 1/20\n",
      "469/469 - 20s - loss: 0.1541 - accuracy: 0.9534 - val_loss: 0.7864 - val_accuracy: 0.7024 - 20s/epoch - 43ms/step\n",
      "Epoch 2/20\n",
      "469/469 - 18s - loss: 0.0508 - accuracy: 0.9843 - val_loss: 0.0345 - val_accuracy: 0.9885 - 18s/epoch - 39ms/step\n",
      "Epoch 3/20\n",
      "469/469 - 20s - loss: 0.0348 - accuracy: 0.9899 - val_loss: 0.0411 - val_accuracy: 0.9860 - 20s/epoch - 42ms/step\n",
      "Epoch 4/20\n",
      "469/469 - 18s - loss: 0.0303 - accuracy: 0.9905 - val_loss: 0.0320 - val_accuracy: 0.9896 - 18s/epoch - 39ms/step\n",
      "Epoch 5/20\n",
      "469/469 - 18s - loss: 0.0242 - accuracy: 0.9924 - val_loss: 0.0339 - val_accuracy: 0.9898 - 18s/epoch - 39ms/step\n",
      "Epoch 6/20\n",
      "469/469 - 19s - loss: 0.0199 - accuracy: 0.9939 - val_loss: 0.0285 - val_accuracy: 0.9913 - 19s/epoch - 41ms/step\n",
      "Epoch 7/20\n",
      "469/469 - 19s - loss: 0.0174 - accuracy: 0.9942 - val_loss: 0.0275 - val_accuracy: 0.9914 - 19s/epoch - 41ms/step\n",
      "Epoch 8/20\n",
      "469/469 - 22s - loss: 0.0164 - accuracy: 0.9947 - val_loss: 0.0346 - val_accuracy: 0.9886 - 22s/epoch - 46ms/step\n",
      "Epoch 9/20\n",
      "469/469 - 20s - loss: 0.0149 - accuracy: 0.9950 - val_loss: 0.0351 - val_accuracy: 0.9894 - 20s/epoch - 44ms/step\n",
      "Epoch 10/20\n",
      "469/469 - 25s - loss: 0.0125 - accuracy: 0.9959 - val_loss: 0.0332 - val_accuracy: 0.9896 - 25s/epoch - 53ms/step\n",
      "Epoch 11/20\n",
      "469/469 - 27s - loss: 0.0119 - accuracy: 0.9956 - val_loss: 0.0302 - val_accuracy: 0.9907 - 27s/epoch - 58ms/step\n",
      "Epoch 12/20\n",
      "469/469 - 27s - loss: 0.0098 - accuracy: 0.9967 - val_loss: 0.0379 - val_accuracy: 0.9888 - 27s/epoch - 58ms/step\n",
      "Epoch 13/20\n",
      "469/469 - 25s - loss: 0.0093 - accuracy: 0.9968 - val_loss: 0.0325 - val_accuracy: 0.9909 - 25s/epoch - 54ms/step\n",
      "Epoch 14/20\n",
      "469/469 - 25s - loss: 0.0094 - accuracy: 0.9968 - val_loss: 0.0341 - val_accuracy: 0.9909 - 25s/epoch - 54ms/step\n",
      "Epoch 15/20\n",
      "469/469 - 23s - loss: 0.0077 - accuracy: 0.9972 - val_loss: 0.0343 - val_accuracy: 0.9909 - 23s/epoch - 49ms/step\n",
      "Epoch 16/20\n",
      "469/469 - 29s - loss: 0.0086 - accuracy: 0.9971 - val_loss: 0.0322 - val_accuracy: 0.9903 - 29s/epoch - 62ms/step\n",
      "Epoch 17/20\n",
      "469/469 - 29s - loss: 0.0061 - accuracy: 0.9980 - val_loss: 0.0318 - val_accuracy: 0.9921 - 29s/epoch - 62ms/step\n",
      "Epoch 18/20\n",
      "469/469 - 29s - loss: 0.0068 - accuracy: 0.9977 - val_loss: 0.0378 - val_accuracy: 0.9895 - 29s/epoch - 61ms/step\n",
      "Epoch 19/20\n",
      "469/469 - 28s - loss: 0.0070 - accuracy: 0.9977 - val_loss: 0.0325 - val_accuracy: 0.9914 - 28s/epoch - 60ms/step\n",
      "Epoch 20/20\n",
      "469/469 - 30s - loss: 0.0063 - accuracy: 0.9981 - val_loss: 0.0328 - val_accuracy: 0.9909 - 30s/epoch - 63ms/step\n",
      "313/313 [==============================] - 3s 10ms/step - loss: 0.0328 - accuracy: 0.9909\n"
     ]
    },
    {
     "data": {
      "text/plain": [
       "[0.03280232101678848, 0.9908999800682068]"
      ]
     },
     "execution_count": 18,
     "metadata": {},
     "output_type": "execute_result"
    }
   ],
   "source": [
    "classificador = Sequential()\n",
    "classificador.add(Conv2D(32, (3, 3), input_shape=(28,28,1), activation = 'relu'))\n",
    "classificador.add(BatchNormalization())\n",
    "classificador.add(MaxPooling2D(pool_size=(2,2)))\n",
    "classificador.add(Conv2D(32, (3, 3), activation = 'relu'))\n",
    "classificador.add(BatchNormalization())\n",
    "classificador.add(MaxPooling2D(pool_size=(2,2)))\n",
    "classificador.add(Flatten())\n",
    "classificador.add(BatchNormalization())\n",
    "\n",
    "classificador.add(Dense(128, activation = 'relu'))\n",
    "classificador.add(BatchNormalization())\n",
    "classificador.add(Dropout(0.3))\n",
    "classificador.add(Dense(10,activation=\"softmax\"))\n",
    "classificador.compile(loss='categorical_crossentropy', \n",
    "                      optimizer=\"adam\", metrics=['accuracy'])\n",
    "classificador.fit(previsores_treinamento, classe_treinamento, \n",
    "                  batch_size=128, epochs=20, \n",
    "                  validation_data=(previsores_teste, classe_teste), verbose=2)\n",
    "\n",
    "resultado = classificador.evaluate(previsores_teste, classe_teste)\n",
    "resultado"
   ]
  }
 ],
 "metadata": {
  "kernelspec": {
   "display_name": "base",
   "language": "python",
   "name": "python3"
  },
  "language_info": {
   "codemirror_mode": {
    "name": "ipython",
    "version": 3
   },
   "file_extension": ".py",
   "mimetype": "text/x-python",
   "name": "python",
   "nbconvert_exporter": "python",
   "pygments_lexer": "ipython3",
   "version": "3.11.4"
  }
 },
 "nbformat": 4,
 "nbformat_minor": 2
}
