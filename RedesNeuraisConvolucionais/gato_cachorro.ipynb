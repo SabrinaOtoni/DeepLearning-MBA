{
 "cells": [
  {
   "cell_type": "markdown",
   "metadata": {},
   "source": [
    "# Estudo prático da estrutura das redes neurais convolucionais\n",
    "\n",
    "#### Sabrina Otoni da Silva - 2023"
   ]
  },
  {
   "cell_type": "code",
   "execution_count": 2,
   "metadata": {},
   "outputs": [],
   "source": [
    "import numpy as np\n",
    "from tensorflow.keras.models import Sequential\n",
    "from tensorflow.keras.layers import Conv2D, MaxPooling2D, Flatten, Dense, Dropout\n",
    "from tensorflow.keras.layers import BatchNormalization\n",
    "from tensorflow.keras.preprocessing.image import ImageDataGenerator\n",
    "from tensorflow.keras.preprocessing import image"
   ]
  },
  {
   "cell_type": "code",
   "execution_count": 3,
   "metadata": {},
   "outputs": [],
   "source": [
    "classificador = Sequential()\n",
    "classificador.add(Conv2D(32, (3,3), input_shape = (64, 64, 3), activation = 'relu'))\n",
    "classificador.add(BatchNormalization())\n",
    "classificador.add(MaxPooling2D(pool_size = (2,2)))\n",
    "\n",
    "classificador.add(Conv2D(32, (3,3), input_shape = (64, 64, 3), activation = 'relu'))\n",
    "classificador.add(BatchNormalization())\n",
    "classificador.add(MaxPooling2D(pool_size = (2,2)))\n",
    "\n",
    "classificador.add(Flatten())\n",
    "\n",
    "classificador.add(Dense(units = 128, activation = 'relu'))\n",
    "classificador.add(Dropout(0.2))\n",
    "classificador.add(Dense(units = 128, activation = 'relu'))\n",
    "classificador.add(Dropout(0.2))\n",
    "classificador.add(Dense(units = 1, activation = 'sigmoid'))\n",
    "\n",
    "classificador.compile(optimizer = 'adam', loss = 'binary_crossentropy',\n",
    "                      metrics = ['accuracy'])"
   ]
  },
  {
   "cell_type": "code",
   "execution_count": 4,
   "metadata": {},
   "outputs": [
    {
     "name": "stdout",
     "output_type": "stream",
     "text": [
      "Found 4014 images belonging to 2 classes.\n",
      "Found 1000 images belonging to 2 classes.\n"
     ]
    },
    {
     "name": "stderr",
     "output_type": "stream",
     "text": [
      "C:\\Users\\012728631\\AppData\\Local\\Temp\\ipykernel_11156\\3559783100.py:17: UserWarning: `Model.fit_generator` is deprecated and will be removed in a future version. Please use `Model.fit`, which supports generators.\n",
      "  classificador.fit_generator(base_treinamento, steps_per_epoch = 4000 / 32,\n"
     ]
    },
    {
     "name": "stdout",
     "output_type": "stream",
     "text": [
      "Epoch 1/10\n",
      "125/125 [==============================] - 150s 1s/step - loss: 0.8191 - accuracy: 0.5796 - val_loss: 1.2670 - val_accuracy: 0.4990\n",
      "Epoch 2/10\n",
      "125/125 [==============================] - 50s 400ms/step - loss: 0.6756 - accuracy: 0.6180 - val_loss: 0.8785 - val_accuracy: 0.5800\n",
      "Epoch 3/10\n",
      "125/125 [==============================] - 47s 375ms/step - loss: 0.6449 - accuracy: 0.6401 - val_loss: 0.8267 - val_accuracy: 0.5650\n",
      "Epoch 4/10\n",
      "125/125 [==============================] - 50s 402ms/step - loss: 0.6067 - accuracy: 0.6743 - val_loss: 0.6157 - val_accuracy: 0.6720\n",
      "Epoch 5/10\n",
      "125/125 [==============================] - 46s 366ms/step - loss: 0.5816 - accuracy: 0.6934 - val_loss: 0.6103 - val_accuracy: 0.6820\n",
      "Epoch 6/10\n",
      "125/125 [==============================] - 53s 423ms/step - loss: 0.5776 - accuracy: 0.6871 - val_loss: 0.6898 - val_accuracy: 0.5500\n",
      "Epoch 7/10\n",
      "125/125 [==============================] - 57s 455ms/step - loss: 0.5468 - accuracy: 0.7165 - val_loss: 0.5605 - val_accuracy: 0.7090\n",
      "Epoch 8/10\n",
      "125/125 [==============================] - 27s 212ms/step - loss: 0.5361 - accuracy: 0.7253 - val_loss: 0.6102 - val_accuracy: 0.6810\n",
      "Epoch 9/10\n",
      "125/125 [==============================] - 18s 145ms/step - loss: 0.5205 - accuracy: 0.7315 - val_loss: 0.5574 - val_accuracy: 0.7260\n",
      "Epoch 10/10\n",
      "125/125 [==============================] - 17s 136ms/step - loss: 0.5065 - accuracy: 0.7516 - val_loss: 0.6243 - val_accuracy: 0.6450\n",
      "1/1 [==============================] - 0s 118ms/step\n"
     ]
    },
    {
     "data": {
      "text/plain": [
       "{'cachorro': 0, 'gato': 1}"
      ]
     },
     "execution_count": 4,
     "metadata": {},
     "output_type": "execute_result"
    }
   ],
   "source": [
    "gerador_treinamento = ImageDataGenerator(rescale = 1./255,\n",
    "                                         rotation_range = 7,\n",
    "                                         horizontal_flip = True,\n",
    "                                         shear_range = 0.2,\n",
    "                                         height_shift_range = 0.07,\n",
    "                                         zoom_range = 0.2)\n",
    "gerador_teste = ImageDataGenerator(rescale = 1./255)\n",
    "\n",
    "base_treinamento = gerador_treinamento.flow_from_directory('dataset/training_set',\n",
    "                                                           target_size = (64, 64),\n",
    "                                                           batch_size = 32,\n",
    "                                                           class_mode = 'binary')\n",
    "base_teste = gerador_teste.flow_from_directory('dataset/test_set',\n",
    "                                               target_size = (64, 64),\n",
    "                                               batch_size = 32,\n",
    "                                               class_mode = 'binary')\n",
    "classificador.fit_generator(base_treinamento, steps_per_epoch = 4000 / 32,\n",
    "                            epochs = 10, validation_data = base_teste,\n",
    "                            validation_steps = 1000 / 32)\n",
    "imagem_teste = image.load_img('dataset/test_set/cachorro/dog.3500.jpg',\n",
    "                              target_size = (64,64))\n",
    "imagem_teste = image.img_to_array(imagem_teste)\n",
    "imagem_teste /= 255\n",
    "imagem_teste = np.expand_dims(imagem_teste, axis = 0)\n",
    "previsao = classificador.predict(imagem_teste)\n",
    "previsao = (previsao > 0.5)\n",
    "\n",
    "base_treinamento.class_indices"
   ]
  }
 ],
 "metadata": {
  "kernelspec": {
   "display_name": "base",
   "language": "python",
   "name": "python3"
  },
  "language_info": {
   "codemirror_mode": {
    "name": "ipython",
    "version": 3
   },
   "file_extension": ".py",
   "mimetype": "text/x-python",
   "name": "python",
   "nbconvert_exporter": "python",
   "pygments_lexer": "ipython3",
   "version": "3.11.4"
  }
 },
 "nbformat": 4,
 "nbformat_minor": 2
}
