{
  "cells": [
    {
      "cell_type": "markdown",
      "metadata": {},
      "source": [
        "# Estudo prático - CNN\n",
        "\n",
        "#### Sabrina Otoni da Silva - 2023"
      ]
    },
    {
      "cell_type": "code",
      "execution_count": null,
      "metadata": {
        "id": "wKphugNdAzIJ"
      },
      "outputs": [],
      "source": [
        "from keras.datasets import mnist\n",
        "from tensorflow import keras\n",
        "import matplotlib.pyplot as plt\n",
        "from keras.models import Sequential, load_model\n",
        "from keras.layers import Dense\n",
        "from keras.layers import Dropout\n",
        "from keras.layers import Flatten\n",
        "from keras.layers import Conv2D\n",
        "from keras.layers import MaxPooling2D\n",
        "from tensorflow.keras.utils import to_categorical\n",
        "import numpy as np"
      ]
    },
    {
      "cell_type": "code",
      "execution_count": null,
      "metadata": {
        "id": "mGJcC88tAzIP"
      },
      "outputs": [],
      "source": [
        "(X_train, y_train), (X_test, y_test) = mnist.load_data()"
      ]
    },
    {
      "cell_type": "markdown",
      "metadata": {
        "id": "wchq4BLlAzIS"
      },
      "source": [
        "Plota 4 imagens de exemplo em escala de cinza"
      ]
    },
    {
      "cell_type": "code",
      "execution_count": null,
      "metadata": {
        "colab": {
          "base_uri": "https://localhost:8080/",
          "height": 432
        },
        "id": "sDdT4RRmAzIT",
        "outputId": "1c28c24a-86d7-4b02-d501-8a1f69269ede"
      },
      "outputs": [
        {
          "data": {
            "image/png": "[encoded data removed]",
            "text/plain": [
              "<Figure size 640x480 with 4 Axes>"
            ]
          },
          "metadata": {},
          "output_type": "display_data"
        }
      ],
      "source": [
        "plt.figure(0)\n",
        "plt.subplot(221)\n",
        "plt.imshow(X_train[0], cmap=plt.get_cmap('gray'))\n",
        "plt.subplot(222)\n",
        "plt.imshow(X_train[1], cmap=plt.get_cmap('gray'))\n",
        "plt.subplot(223)\n",
        "plt.imshow(X_train[2], cmap=plt.get_cmap('gray'))\n",
        "plt.subplot(224)\n",
        "plt.imshow(X_train[3], cmap=plt.get_cmap('gray'))\n",
        "#Mostra o as imagens\n",
        "plt.show()"
      ]
    },
    {
      "cell_type": "code",
      "execution_count": null,
      "metadata": {
        "colab": {
          "base_uri": "https://localhost:8080/"
        },
        "id": "7UVpu4e2o4mH",
        "outputId": "e97357a2-5d9f-4a9e-dc4e-d0555cf4cce3"
      },
      "outputs": [
        {
          "name": "stdout",
          "output_type": "stream",
          "text": [
            "[[  0   0   0   0   0   0   0   0   0   0   0   0   0   0   0   0   0   0\n",
            "    0   0   0   0   0   0   0   0   0   0]\n",
            " [  0   0   0   0   0   0   0   0   0   0   0   0   0   0   0   0   0   0\n",
            "    0   0   0   0   0   0   0   0   0   0]\n",
            " [  0   0   0   0   0   0   0   0   0   0   0   0   0   0   0   0   0   0\n",
            "    0   0   0   0   0   0   0   0   0   0]\n",
            " [  0   0   0   0   0   0   0   0   0   0   0   0   0   0   0   0   0   0\n",
            "    0   0   0   0   0   0   0   0   0   0]\n",
            " [  0   0   0   0   0   0   0   0   0   0   0   0   0   0   0   0   0   0\n",
            "    0   0   0   0   0   0   0   0   0   0]\n",
            " [  0   0   0   0   0   0   0   0   0   0   0   0   3  18  18  18 126 136\n",
            "  175  26 166 255 247 127   0   0   0   0]\n",
            " [  0   0   0   0   0   0   0   0  30  36  94 154 170 253 253 253 253 253\n",
            "  225 172 253 242 195  64   0   0   0   0]\n",
            " [  0   0   0   0   0   0   0  49 238 253 253 253 253 253 253 253 253 251\n",
            "   93  82  82  56  39   0   0   0   0   0]\n",
            " [  0   0   0   0   0   0   0  18 219 253 253 253 253 253 198 182 247 241\n",
            "    0   0   0   0   0   0   0   0   0   0]\n",
            " [  0   0   0   0   0   0   0   0  80 156 107 253 253 205  11   0  43 154\n",
            "    0   0   0   0   0   0   0   0   0   0]\n",
            " [  0   0   0   0   0   0   0   0   0  14   1 154 253  90   0   0   0   0\n",
            "    0   0   0   0   0   0   0   0   0   0]\n",
            " [  0   0   0   0   0   0   0   0   0   0   0 139 253 190   2   0   0   0\n",
            "    0   0   0   0   0   0   0   0   0   0]\n",
            " [  0   0   0   0   0   0   0   0   0   0   0  11 190 253  70   0   0   0\n",
            "    0   0   0   0   0   0   0   0   0   0]\n",
            " [  0   0   0   0   0   0   0   0   0   0   0   0  35 241 225 160 108   1\n",
            "    0   0   0   0   0   0   0   0   0   0]\n",
            " [  0   0   0   0   0   0   0   0   0   0   0   0   0  81 240 253 253 119\n",
            "   25   0   0   0   0   0   0   0   0   0]\n",
            " [  0   0   0   0   0   0   0   0   0   0   0   0   0   0  45 186 253 253\n",
            "  150  27   0   0   0   0   0   0   0   0]\n",
            " [  0   0   0   0   0   0   0   0   0   0   0   0   0   0   0  16  93 252\n",
            "  253 187   0   0   0   0   0   0   0   0]\n",
            " [  0   0   0   0   0   0   0   0   0   0   0   0   0   0   0   0   0 249\n",
            "  253 249  64   0   0   0   0   0   0   0]\n",
            " [  0   0   0   0   0   0   0   0   0   0   0   0   0   0  46 130 183 253\n",
            "  253 207   2   0   0   0   0   0   0   0]\n",
            " [  0   0   0   0   0   0   0   0   0   0   0   0  39 148 229 253 253 253\n",
            "  250 182   0   0   0   0   0   0   0   0]\n",
            " [  0   0   0   0   0   0   0   0   0   0  24 114 221 253 253 253 253 201\n",
            "   78   0   0   0   0   0   0   0   0   0]\n",
            " [  0   0   0   0   0   0   0   0  23  66 213 253 253 253 253 198  81   2\n",
            "    0   0   0   0   0   0   0   0   0   0]\n",
            " [  0   0   0   0   0   0  18 171 219 253 253 253 253 195  80   9   0   0\n",
            "    0   0   0   0   0   0   0   0   0   0]\n",
            " [  0   0   0   0  55 172 226 253 253 253 253 244 133  11   0   0   0   0\n",
            "    0   0   0   0   0   0   0   0   0   0]\n",
            " [  0   0   0   0 136 253 253 253 212 135 132  16   0   0   0   0   0   0\n",
            "    0   0   0   0   0   0   0   0   0   0]\n",
            " [  0   0   0   0   0   0   0   0   0   0   0   0   0   0   0   0   0   0\n",
            "    0   0   0   0   0   0   0   0   0   0]\n",
            " [  0   0   0   0   0   0   0   0   0   0   0   0   0   0   0   0   0   0\n",
            "    0   0   0   0   0   0   0   0   0   0]\n",
            " [  0   0   0   0   0   0   0   0   0   0   0   0   0   0   0   0   0   0\n",
            "    0   0   0   0   0   0   0   0   0   0]]\n"
          ]
        }
      ],
      "source": [
        "print(X_train[0])"
      ]
    },
    {
      "cell_type": "code",
      "execution_count": null,
      "metadata": {
        "colab": {
          "base_uri": "https://localhost:8080/"
        },
        "id": "_huEjKB2sucn",
        "outputId": "e4cc6e28-4264-4d5f-b4b9-1ec477258fe6"
      },
      "outputs": [
        {
          "data": {
            "text/plain": [
              "(60000, 28, 28)"
            ]
          },
          "execution_count": 25,
          "metadata": {},
          "output_type": "execute_result"
        }
      ],
      "source": [
        "X_train.shape"
      ]
    },
    {
      "cell_type": "code",
      "execution_count": null,
      "metadata": {
        "colab": {
          "base_uri": "https://localhost:8080/"
        },
        "id": "Wmg2j51YtCFM",
        "outputId": "d76603e4-aea6-47cf-d0a6-6cccd3bf3f0a"
      },
      "outputs": [
        {
          "data": {
            "text/plain": [
              "(10000, 28, 28)"
            ]
          },
          "execution_count": 26,
          "metadata": {},
          "output_type": "execute_result"
        }
      ],
      "source": [
        "X_test.shape"
      ]
    },
    {
      "cell_type": "code",
      "execution_count": null,
      "metadata": {
        "colab": {
          "base_uri": "https://localhost:8080/"
        },
        "id": "nVeYZtOOZ5uU",
        "outputId": "34572a59-5468-4924-abbb-93f6347ae1d0"
      },
      "outputs": [
        {
          "name": "stdout",
          "output_type": "stream",
          "text": [
            "5\n",
            "0\n",
            "4\n",
            "1\n"
          ]
        }
      ],
      "source": [
        "print(y_train[0])\n",
        "print(y_train[1])\n",
        "print(y_train[2])\n",
        "print(y_train[3])"
      ]
    },
    {
      "cell_type": "markdown",
      "metadata": {
        "id": "0NyH1OVIAzIX"
      },
      "source": [
        "Apenas ajusta a matriz para as dimensões esperadas do TensorFlow"
      ]
    },
    {
      "cell_type": "code",
      "execution_count": null,
      "metadata": {
        "colab": {
          "base_uri": "https://localhost:8080/"
        },
        "id": "CmLUvIRHvNrR",
        "outputId": "3273133d-eb68-4626-a0e5-ff8f29b12850"
      },
      "outputs": [
        {
          "data": {
            "text/plain": [
              "array([5, 0, 4, ..., 5, 6, 8], dtype=uint8)"
            ]
          },
          "execution_count": 28,
          "metadata": {},
          "output_type": "execute_result"
        }
      ],
      "source": [
        "y_train"
      ]
    },
    {
      "cell_type": "code",
      "execution_count": null,
      "metadata": {
        "colab": {
          "base_uri": "https://localhost:8080/"
        },
        "id": "74-AABCMAzIY",
        "outputId": "51870ad1-08f0-4b31-bf15-38a61e32994e"
      },
      "outputs": [
        {
          "name": "stdout",
          "output_type": "stream",
          "text": [
            "(28, 28, 1)\n"
          ]
        }
      ],
      "source": [
        "img_rows, img_cols = 28, 28\n",
        "\n",
        "X_train = X_train.reshape(X_train.shape[0], img_rows, img_cols, 1)\n",
        "X_test = X_test.reshape(X_test.shape[0], img_rows, img_cols, 1)\n",
        "input_shape = (img_rows, img_cols, 1)\n",
        "print(input_shape)\n",
        "# Normaliza as entradas de 0-255 para 0-1\n",
        "X_train = X_train / 255\n",
        "X_test = X_test / 255\n"
      ]
    },
    {
      "cell_type": "code",
      "execution_count": null,
      "metadata": {
        "id": "SkH-FcReMM8l"
      },
      "outputs": [],
      "source": [
        "# Gera os vetores com as classes do conjunto de dados de treinamento e teste\n",
        "y_train = to_categorical(y_train)\n",
        "y_test = to_categorical(y_test)\n",
        "num_classes = y_test.shape[1]"
      ]
    },
    {
      "cell_type": "code",
      "execution_count": null,
      "metadata": {
        "colab": {
          "base_uri": "https://localhost:8080/"
        },
        "id": "eMfTIZUYetRN",
        "outputId": "ec4a15e7-ddab-44cc-9d15-101ef846aaae"
      },
      "outputs": [
        {
          "name": "stdout",
          "output_type": "stream",
          "text": [
            "(60000, 28, 28, 1)\n",
            "(60000, 10)\n",
            "(10000, 28, 28, 1)\n",
            "(10000, 10)\n"
          ]
        }
      ],
      "source": [
        "print(X_train.shape)\n",
        "print(y_train.shape)\n",
        "print(X_test.shape)\n",
        "print(y_test.shape)"
      ]
    },
    {
      "cell_type": "code",
      "execution_count": null,
      "metadata": {
        "colab": {
          "base_uri": "https://localhost:8080/"
        },
        "id": "A-bo1kGQvZwO",
        "outputId": "2702c7db-55c1-4450-ba1e-7c28192810a0"
      },
      "outputs": [
        {
          "name": "stdout",
          "output_type": "stream",
          "text": [
            "[0. 0. 0. 0. 0. 1. 0. 0. 0. 0.]\n",
            "[1. 0. 0. 0. 0. 0. 0. 0. 0. 0.]\n",
            "[0. 0. 0. 0. 1. 0. 0. 0. 0. 0.]\n",
            "[0. 1. 0. 0. 0. 0. 0. 0. 0. 0.]\n"
          ]
        }
      ],
      "source": [
        "print(y_train[0])\n",
        "print(y_train[1])\n",
        "print(y_train[2])\n",
        "print(y_train[3])"
      ]
    },
    {
      "cell_type": "markdown",
      "metadata": {
        "id": "hbh3hTgiAzIc"
      },
      "source": [
        "Cria o modelo da rede neural Convolucional"
      ]
    },
    {
      "cell_type": "code",
      "execution_count": null,
      "metadata": {
        "colab": {
          "base_uri": "https://localhost:8080/"
        },
        "id": "Ugv-XjmYAzIc",
        "outputId": "26fe5b3d-e5de-4339-a9db-95bf3276dab2"
      },
      "outputs": [
        {
          "name": "stdout",
          "output_type": "stream",
          "text": [
            "(None, 24, 24, 32)\n",
            "(None, 12, 12, 32)\n",
            "(None, 8, 8, 64)\n",
            "(None, 4, 4, 64)\n",
            "(None, 1024)\n",
            "(None, 32)\n",
            "(None, 16)\n",
            "(None, 10)\n"
          ]
        }
      ],
      "source": [
        "# Cria o modelo\n",
        "model = Sequential()\n",
        "#Convolução 2D com função de ativação Rectified Linear Units 32 kernels/Pesos (filtros)\n",
        "\n",
        "model.add(Conv2D(32, (5, 5), input_shape=(28, 28, 1), activation='relu'))#\n",
        "#model.add(Conv2D(10, (3, 3), input_shape=(64, 64, 3), activation='relu'))#\n",
        "#model.add(Conv2D(10, (3, 3), activation='relu'))#\n",
        "\n",
        "print( model.output_shape)\n",
        "#Camada de Pooling\n",
        "model.add(MaxPooling2D(pool_size=(2, 2)))\n",
        "print( model.output_shape)\n",
        "#Convolução 2D com função de ativação Rectified Linear Units 64 kernels/Pesos (filtros)\n",
        "model.add(Conv2D(64, (5, 5), activation='relu'))\n",
        "#model.add(Conv2D(10, (3, 3), activation='relu'))#\n",
        "#model.add(Conv2D(10, (3, 3), activation='relu'))#\n",
        "print( model.output_shape)\n",
        "#Camada de Pooling\n",
        "model.add(MaxPooling2D(pool_size=(2, 2)))\n",
        "print( model.output_shape)\n",
        "#Remove 20% das ativações de entrada aleatoriamente\n",
        "model.add(Dropout(0.2))\n",
        "#Converte o conjunto de imagens e um vetor unidimensional para a entrada da rede neural totalmente conectada\n",
        "model.add(Flatten())\n",
        "print( model.output_shape)\n",
        "\n",
        "model.add(Dense(32, activation='relu'))\n",
        "print( model.output_shape)\n",
        "model.add(Dense(16, activation='relu'))\n",
        "print( model.output_shape)\n",
        "#Função de Ativação Softmax\n",
        "model.add(Dense(num_classes, activation='softmax'))\n",
        "print( model.output_shape)"
      ]
    },
    {
      "cell_type": "markdown",
      "metadata": {
        "id": "1sw2JYjfAzIg"
      },
      "source": [
        "Compilando o modelo escolhendo como se dará nossa perda, otimização e métricas (parâmetros do Keras)"
      ]
    },
    {
      "cell_type": "markdown",
      "metadata": {},
      "source": [
        "mais informações em https://keras.io/losses/\n"
      ]
    },
    {
      "cell_type": "markdown",
      "metadata": {},
      "source": [
        "mais informações em https://keras.io/optimizers/\n"
      ]
    },
    {
      "cell_type": "markdown",
      "metadata": {},
      "source": [
        "mais informações em https://keras.io/metrics/"
      ]
    },
    {
      "cell_type": "markdown",
      "metadata": {
        "id": "6b4GXdQuXjkH"
      },
      "source": [
        "![Função Softma](https://telescopeinstorage.blob.core.windows.net/datasets/funcaosoftmax.png)"
      ]
    },
    {
      "cell_type": "code",
      "execution_count": null,
      "metadata": {
        "id": "nhA_ZpHiAzIg"
      },
      "outputs": [],
      "source": [
        "model.compile(loss='categorical_crossentropy', optimizer='adam', metrics=['accuracy'])"
      ]
    },
    {
      "cell_type": "markdown",
      "metadata": {
        "id": "lJpe5jICAzIj"
      },
      "source": [
        "Treinamento do modelo com **conjunto de validação**"
      ]
    },
    {
      "cell_type": "markdown",
      "metadata": {
        "id": "l6h3WFOsWESz"
      },
      "source": [
        "![Conjunto de Treinamento, Validação e Teste](https://telescopeinstorage.blob.core.windows.net/datasets/validation-set-768x242.jpeg)"
      ]
    },
    {
      "cell_type": "code",
      "execution_count": null,
      "metadata": {
        "colab": {
          "base_uri": "https://localhost:8080/"
        },
        "id": "H3w5FtDrAzIk",
        "outputId": "59134491-89da-4ae1-95fb-c38565319720"
      },
      "outputs": [
        {
          "name": "stdout",
          "output_type": "stream",
          "text": [
            "Epoch 1/20\n",
            "96/96 [==============================] - 6s 14ms/step - loss: 0.9228 - accuracy: 0.6935 - val_loss: 0.2273 - val_accuracy: 0.9383\n",
            "Epoch 2/20\n",
            "96/96 [==============================] - 1s 11ms/step - loss: 0.2030 - accuracy: 0.9428 - val_loss: 0.1197 - val_accuracy: 0.9660\n",
            "Epoch 3/20\n",
            "96/96 [==============================] - 1s 11ms/step - loss: 0.1253 - accuracy: 0.9629 - val_loss: 0.0909 - val_accuracy: 0.9730\n",
            "Epoch 4/20\n",
            "96/96 [==============================] - 1s 11ms/step - loss: 0.0939 - accuracy: 0.9716 - val_loss: 0.0733 - val_accuracy: 0.9787\n",
            "Epoch 5/20\n",
            "96/96 [==============================] - 1s 11ms/step - loss: 0.0784 - accuracy: 0.9764 - val_loss: 0.0679 - val_accuracy: 0.9795\n",
            "Epoch 6/20\n",
            "96/96 [==============================] - 1s 11ms/step - loss: 0.0631 - accuracy: 0.9810 - val_loss: 0.0564 - val_accuracy: 0.9834\n",
            "Epoch 7/20\n",
            "96/96 [==============================] - 1s 11ms/step - loss: 0.0557 - accuracy: 0.9826 - val_loss: 0.0516 - val_accuracy: 0.9847\n",
            "Epoch 8/20\n",
            "96/96 [==============================] - 1s 11ms/step - loss: 0.0481 - accuracy: 0.9850 - val_loss: 0.0486 - val_accuracy: 0.9861\n",
            "Epoch 9/20\n",
            "96/96 [==============================] - 1s 11ms/step - loss: 0.0452 - accuracy: 0.9858 - val_loss: 0.0474 - val_accuracy: 0.9862\n",
            "Epoch 10/20\n",
            "96/96 [==============================] - 1s 12ms/step - loss: 0.0391 - accuracy: 0.9875 - val_loss: 0.0481 - val_accuracy: 0.9858\n",
            "Epoch 11/20\n",
            "96/96 [==============================] - 1s 12ms/step - loss: 0.0371 - accuracy: 0.9886 - val_loss: 0.0427 - val_accuracy: 0.9873\n",
            "Epoch 12/20\n",
            "96/96 [==============================] - 1s 11ms/step - loss: 0.0325 - accuracy: 0.9896 - val_loss: 0.0428 - val_accuracy: 0.9871\n",
            "Epoch 13/20\n",
            "96/96 [==============================] - 1s 11ms/step - loss: 0.0309 - accuracy: 0.9901 - val_loss: 0.0406 - val_accuracy: 0.9876\n",
            "Epoch 14/20\n",
            "96/96 [==============================] - 1s 10ms/step - loss: 0.0286 - accuracy: 0.9909 - val_loss: 0.0394 - val_accuracy: 0.9881\n",
            "Epoch 15/20\n",
            "96/96 [==============================] - 1s 11ms/step - loss: 0.0263 - accuracy: 0.9917 - val_loss: 0.0413 - val_accuracy: 0.9883\n",
            "Epoch 16/20\n",
            "96/96 [==============================] - 1s 11ms/step - loss: 0.0252 - accuracy: 0.9920 - val_loss: 0.0397 - val_accuracy: 0.9888\n",
            "Epoch 17/20\n",
            "96/96 [==============================] - 1s 11ms/step - loss: 0.0227 - accuracy: 0.9930 - val_loss: 0.0369 - val_accuracy: 0.9897\n",
            "Epoch 18/20\n",
            "96/96 [==============================] - 1s 11ms/step - loss: 0.0232 - accuracy: 0.9921 - val_loss: 0.0399 - val_accuracy: 0.9887\n",
            "Epoch 19/20\n",
            "96/96 [==============================] - 1s 11ms/step - loss: 0.0189 - accuracy: 0.9940 - val_loss: 0.0379 - val_accuracy: 0.9896\n",
            "Epoch 20/20\n",
            "96/96 [==============================] - 1s 11ms/step - loss: 0.0181 - accuracy: 0.9944 - val_loss: 0.0403 - val_accuracy: 0.9893\n"
          ]
        }
      ],
      "source": [
        "history = model.fit(X_train, y_train, validation_split = 0.2, epochs=20, batch_size=500)"
      ]
    },
    {
      "cell_type": "markdown",
      "metadata": {
        "id": "WkuYRzHEAzIn"
      },
      "source": [
        "Plotagem da acurácia de Treinamento e Validação"
      ]
    },
    {
      "cell_type": "code",
      "execution_count": null,
      "metadata": {
        "colab": {
          "base_uri": "https://localhost:8080/"
        },
        "id": "FeHD_SXwAzIo",
        "outputId": "07c60584-3a54-4e23-91be-acfb44e39f90"
      },
      "outputs": [
        {
          "data": {
            "image/png": "[encoded data removed]",
            "text/plain": [
              "<Figure size 640x480 with 1 Axes>"
            ]
          },
          "metadata": {},
          "output_type": "display_data"
        }
      ],
      "source": [
        "plt.figure(1)\n",
        "plt.plot(history.history['accuracy'])\n",
        "plt.plot(history.history['val_accuracy'])\n",
        "plt.title('model accuracy')\n",
        "plt.ylabel('accuracy')\n",
        "plt.xlabel('epoch')\n",
        "plt.legend(['train', 'validation'], loc='upper left')\n",
        "plt.show()"
      ]
    },
    {
      "cell_type": "markdown",
      "metadata": {
        "id": "lxX0T5xdAzIq"
      },
      "source": [
        "Avaliação final do modelo no conjunto de testes"
      ]
    },
    {
      "cell_type": "code",
      "execution_count": null,
      "metadata": {
        "colab": {
          "base_uri": "https://localhost:8080/"
        },
        "id": "thvnp8WAAzIr",
        "outputId": "a42daaab-797c-44b6-92b4-608d76f088d6"
      },
      "outputs": [
        {
          "name": "stdout",
          "output_type": "stream",
          "text": [
            "Erro da CNN: 0.94%\n",
            "Acurária da CNN: 99.06%\n"
          ]
        }
      ],
      "source": [
        "scores = model.evaluate(X_test, y_test, verbose=0)\n",
        "print(\"Erro da CNN: %.2f%%\" % (100-scores[1]*100))\n",
        "print(\"Acurária da CNN: %.2f%%\" % (scores[1]*100))"
      ]
    },
    {
      "cell_type": "code",
      "execution_count": null,
      "metadata": {
        "colab": {
          "base_uri": "https://localhost:8080/"
        },
        "id": "yp83-Zutzwzp",
        "outputId": "0e200666-d2cc-4ae2-aa00-b39232776cd2"
      },
      "outputs": [
        {
          "data": {
            "text/plain": [
              "[0.02949676290154457, 0.9905999898910522]"
            ]
          },
          "execution_count": 38,
          "metadata": {},
          "output_type": "execute_result"
        }
      ],
      "source": [
        "scores"
      ]
    },
    {
      "cell_type": "markdown",
      "metadata": {
        "id": "WOCKIShRAzIt"
      },
      "source": [
        "Salva o modelo"
      ]
    },
    {
      "cell_type": "code",
      "execution_count": null,
      "metadata": {
        "id": "J9FNrfNGAzIu"
      },
      "outputs": [],
      "source": [
        "model.save('MNIST.hdf5', )"
      ]
    },
    {
      "cell_type": "code",
      "execution_count": null,
      "metadata": {
        "id": "v5bYTlBRAzIx"
      },
      "outputs": [],
      "source": [
        "model_loaded  = load_model('MNIST.hdf5')"
      ]
    }
  ],
  "metadata": {
    "accelerator": "GPU",
    "colab": {
      "provenance": []
    },
    "kernelspec": {
      "display_name": "Python 3",
      "language": "python",
      "name": "python3"
    },
    "language_info": {
      "codemirror_mode": {
        "name": "ipython",
        "version": 3
      },
      "file_extension": ".py",
      "mimetype": "text/x-python",
      "name": "python",
      "nbconvert_exporter": "python",
      "pygments_lexer": "ipython3",
      "version": "3.7.7"
    }
  },
  "nbformat": 4,
  "nbformat_minor": 0
}
